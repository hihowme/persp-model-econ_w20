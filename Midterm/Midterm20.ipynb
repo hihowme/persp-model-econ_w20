{
 "cells": [
  {
   "cell_type": "markdown",
   "metadata": {},
   "source": [
    "# Midterm (MACS 30150), February 10, 2020 [20 points total]\n",
    "### [Haihao Guo]\n",
    "You will have an hour and fifty minutes to take this exam.\n",
    "1. Put your name in the space provided above (without the brackets).\n",
    "2. Download this notebook and accompanying data `data/hh_inc_synth.txt` and images `images/hist_inc_2.png`.\n",
    "3. The class will disconnect their wi-fi and begin taking the exam.\n",
    "4. The exam is open computer, closed internet, open note.\n",
    "5. Once you are done, you will signal to a TA or instructor to come over and monitor while you reconnect to the internet and upload your edited notebook to Canvas.\n",
    "\n",
    "Remember that you must clearly indicate your answers to all questions below. We will give partial credit for partially correct answers. The midterm is worth 20 points (2 problem sets)."
   ]
  },
  {
   "cell_type": "markdown",
   "metadata": {},
   "source": [
    "# 1. Numerical Integration [10 points total]\n",
    "Assume that the distribution of household income (in U.S. dollars \\\\$) is characterized by the two-parameter gamma (GA) distribution (similar to the log normal distribution). The following is the probability density function (PDF) of the gamma (GA) distribution, which tells you the probability density of variable $x$ for given values of parameters $\\alpha$ and $\\beta$.\n",
    "\n",
    "\\begin{equation*}\n",
    "\\begin{split}\n",
    "&\\text{(GA):}\\quad f(x;\\alpha,\\beta) = \\frac{1}{\\beta^\\alpha \\Gamma(\\alpha)}x^{\\alpha-1}e^{-\\frac{x}{\\beta}}, \\quad x>0, \\:\\alpha,\\beta>0 \\\\\n",
    "&\\quad\\quad \\text{where}\\quad \\Gamma(z)\\equiv\\int_0^\\infty t^{z-1}e^{-t}dt\n",
    "\\end{split}\n",
    "\\end{equation*}\n",
    "\n",
    "Some code for the PDF of the gamma (GA) distribution is the following."
   ]
  },
  {
   "cell_type": "code",
   "execution_count": 1,
   "metadata": {},
   "outputs": [],
   "source": [
    "import numpy as np\n",
    "import scipy.special as spc\n",
    "\n",
    "def GA_pdf(xvals, alpha, beta):\n",
    "    '''\n",
    "    --------------------------------------------------------------------\n",
    "    Returns the PDF values from the two-parameter gamma (GA)\n",
    "    distribution. See McDonald and Xu (1995).\n",
    "\n",
    "    (GA): f(x; alpha, beta) = (1 / ((beta ** alpha) *\n",
    "        spc.gamma(alpha))) * (x ** (alpha - 1)) * (e ** (-x / beta))\n",
    "    x in [0, infty), alpha, beta > 0\n",
    "    --------------------------------------------------------------------\n",
    "    INPUTS:\n",
    "    xvals = (N,) vector, values in the support of gamma distribution\n",
    "    alpha = scalar > 0, gamma distribution parameter\n",
    "    beta  = scalar > 0, gamma distribution parameter\n",
    "\n",
    "    OTHER FUNCTIONS AND FILES CALLED BY THIS FUNCTION:\n",
    "        spc.gamma()\n",
    "\n",
    "    OBJECTS CREATED WITHIN FUNCTION:\n",
    "    pdf_vals = (N,) vector, pdf values from gamma distribution\n",
    "               corresponding to xvals given parameters alpha and beta\n",
    "\n",
    "    FILES CREATED BY THIS FUNCTION: None\n",
    "\n",
    "    RETURNS: pdf_vals\n",
    "    --------------------------------------------------------------------\n",
    "    '''\n",
    "    pdf_vals = \\\n",
    "        np.float64((1 / ((beta ** alpha) * spc.gamma(alpha))) *\n",
    "                   (xvals ** (alpha - 1)) * np.exp(-xvals / beta))\n",
    "\n",
    "    return pdf_vals"
   ]
  },
  {
   "cell_type": "markdown",
   "metadata": {},
   "source": [
    "As a final suggestion for numerical approximations of integrals that use this `GA_pdf()` function, you can integrate this with a `lambda function` in which the `alpha` and `beta` are hard coded. For parts (b) and (c), one approach might be to define a `lambda` function like the following and use that as your input function for the `quad` command in part (c) or any of your Newton-Cotes methods in part (b)."
   ]
  },
  {
   "cell_type": "code",
   "execution_count": 2,
   "metadata": {},
   "outputs": [],
   "source": [
    "GApdf = lambda x: GA_pdf(x, alpha_1a, beta_1a)"
   ]
  },
  {
   "cell_type": "markdown",
   "metadata": {},
   "source": [
    "## 1a) Plot the GA distribution of income [2 points]\n",
    "Assume that the GA distribution coefficient values are $\\alpha=1.23$ and $\\beta=54,649.9$. Use Python to plot the GA PDF of income using 1,000 equally spaced income values between `1e-7` and \\\\$350,000 and using the `GA_pdf()` function above. Make sure your plot has an $x$-axis labeled \"income\" and a $y$-axis labeled \"density\"."
   ]
  },
  {
   "cell_type": "code",
   "execution_count": 26,
   "metadata": {},
   "outputs": [],
   "source": [
    "import numpy as np\n",
    "import scipy.special as spc\n",
    "\n",
    "def GA_pdf(xvals, alpha, beta):\n",
    "    '''\n",
    "    --------------------------------------------------------------------\n",
    "    Returns the PDF values from the two-parameter gamma (GA)\n",
    "    distribution. See McDonald and Xu (1995).\n",
    "\n",
    "    (GA): f(x; alpha, beta) = (1 / ((beta ** alpha) *\n",
    "        spc.gamma(alpha))) * (x ** (alpha - 1)) * (e ** (-x / beta))\n",
    "    x in [0, infty), alpha, beta > 0\n",
    "    --------------------------------------------------------------------\n",
    "    INPUTS:\n",
    "    xvals = (N,) vector, values in the support of gamma distribution\n",
    "    alpha = scalar > 0, gamma distribution parameter\n",
    "    beta  = scalar > 0, gamma distribution parameter\n",
    "\n",
    "    OTHER FUNCTIONS AND FILES CALLED BY THIS FUNCTION:\n",
    "        spc.gamma()\n",
    "\n",
    "    OBJECTS CREATED WITHIN FUNCTION:\n",
    "    pdf_vals = (N,) vector, pdf values from gamma distribution\n",
    "               corresponding to xvals given parameters alpha and beta\n",
    "\n",
    "    FILES CREATED BY THIS FUNCTION: None\n",
    "\n",
    "    RETURNS: pdf_vals\n",
    "    --------------------------------------------------------------------\n",
    "    '''\n",
    "    pdf_vals = \\\n",
    "        np.float64((1 / ((beta ** alpha) * spc.gamma(alpha))) *\n",
    "                   (xvals ** (alpha - 1)) * np.exp(-xvals / beta))\n",
    "\n",
    "    return pdf_vals"
   ]
  },
  {
   "cell_type": "code",
   "execution_count": 27,
   "metadata": {},
   "outputs": [],
   "source": [
    "import matplotlib.pyplot as plt"
   ]
  },
  {
   "cell_type": "code",
   "execution_count": 28,
   "metadata": {},
   "outputs": [
    {
     "data": {
      "text/plain": [
       "[<matplotlib.lines.Line2D at 0x1518c720f0>]"
      ]
     },
     "execution_count": 28,
     "metadata": {},
     "output_type": "execute_result"
    },
    {
     "data": {
      "image/png": "[encoded data removed]",
      "text/plain": [
       "<Figure size 432x288 with 1 Axes>"
      ]
     },
     "metadata": {
      "needs_background": "light"
     },
     "output_type": "display_data"
    }
   ],
   "source": [
    "alpha_1a = 1.23\n",
    "beta_1a = 54649.9\n",
    "income = np.linspace(1e-7, 350000, 1000)\n",
    "\n",
    "plt.title('1a answer', fontsize=20)\n",
    "plt.xlabel('income')\n",
    "plt.ylabel('density')\n",
    "plt.plot(income, GA_pdf(income, alpha_1a, beta_1a),\n",
    "         linewidth=2, color='y')"
   ]
  },
  {
   "cell_type": "markdown",
   "metadata": {},
   "source": [
    "## 1b) Midpoint, trapezoid, and Simpson's rule [5 points]\n",
    "Assuming $\\alpha=1.23$ and $\\beta=54,649.9$ in the gamma (GA) distribution, and using $N=30$ equally spaced bins, approximate the percent of the population with an income less than \\\\$75,000 using the midpoint rule, trapezoid rule, and Simpson's rule. The analytical expression for this percentage is given by the following integral.\n",
    "\n",
    "$$ \\int_0^{75,000}f(x;\\alpha,\\beta)dx $$\n",
    "\n",
    "Report your values for this approximated itegral for the midpoint rule, trapezoid rule, and Simpson's rule, respectively."
   ]
  },
  {
   "cell_type": "code",
   "execution_count": 29,
   "metadata": {},
   "outputs": [],
   "source": [
    "GApdf = lambda x: GA_pdf(x, alpha_1a, beta_1a)"
   ]
  },
  {
   "cell_type": "code",
   "execution_count": 16,
   "metadata": {},
   "outputs": [],
   "source": [
    "def integral_(g, a, b, N, method):\n",
    "    \n",
    "    outcome = 0\n",
    "    \n",
    "    def x_m(i):\n",
    "        return a + (2 * i + 1) * (b - a) / (2 * N)\n",
    "    \n",
    "    def x_t(i):\n",
    "        return a + i * (b - a) / N\n",
    "\n",
    "    def x_s(i):\n",
    "        return a + i * (b - a) / (2 * N)\n",
    "    \n",
    "    if method == 'midpoint':\n",
    "        outcome += ((b - a) / N) * sum([g(x_m(i)) for i in range(N)])\n",
    "    elif method == 'trapezoid':\n",
    "        outcome += ((b - a) / (2 * N)) * (g(a) + 2 * sum([g(x_t(i)) for i in range(1, N)]) + g(b))\n",
    "    elif method == 'Simpsons':\n",
    "        outcome += ((b - a) / (6 * N)) * (g(a) + 4 * sum([g(x_s(i)) for i in range(1, 2 * N) if i%2 != 0])\\\n",
    "                                          + 2 * sum([g(x_s(i)) for i in range(2, 2 * N) if i%2 == 0]) + g(b))\n",
    "    else:\n",
    "        pass\n",
    "        \n",
    "    return outcome"
   ]
  },
  {
   "cell_type": "code",
   "execution_count": 17,
   "metadata": {},
   "outputs": [
    {
     "name": "stdout",
     "output_type": "stream",
     "text": [
      "test result with N = 30\n",
      "The approximation using midpoint method is 0.6658937754128378\n",
      "The approximation using trapezoid method is 0.6565135570466718\n",
      "The approximation using Simpsons method is 0.6627670359574491\n"
     ]
    }
   ],
   "source": [
    "N = 30\n",
    "\n",
    "m = integral_(GApdf, 0, 75000, N, 'midpoint')\n",
    "t = integral_(GApdf, 0, 75000, N, 'trapezoid')\n",
    "s = integral_(GApdf, 0, 75000, N, 'Simpsons')\n",
    "\n",
    "print('test result with N = 30')\n",
    "print('The approximation using midpoint method is {}'\\\n",
    "      . format(m))\n",
    "print('The approximation using trapezoid method is {}'\\\n",
    "      . format(t))\n",
    "print('The approximation using Simpsons method is {}'\\\n",
    "      . format(s))"
   ]
  },
  {
   "cell_type": "markdown",
   "metadata": {},
   "source": [
    "## 1c) Use Gaussian quadrature to approximate the integral [3 points]\n",
    "Use gaussian quadrature using the `scipy.integrate.quad()` command to approximate the percent of the population that earns less than \\\\$75,000 assuming that the population income is distributed according to the gamma (GA) distribution with parameter values $\\alpha=1.23$ and $\\beta=54,649.9$. Report your percentage that you calculated using Gaussian quadrature."
   ]
  },
  {
   "cell_type": "code",
   "execution_count": 24,
   "metadata": {},
   "outputs": [
    {
     "name": "stdout",
     "output_type": "stream",
     "text": [
      "The approximation using Gaussian quadrature command method is 0.6646972256281289\n"
     ]
    }
   ],
   "source": [
    "import scipy\n",
    "from scipy import integrate\n",
    "\n",
    "scipy_appro = scipy.integrate.quad(GApdf, 0, 75000)\n",
    "print('The approximation using Gaussian quadrature command method is {}'.format(scipy_appro[0]))"
   ]
  },
  {
   "cell_type": "markdown",
   "metadata": {},
   "source": [
    "#### The percentage that I calculated using Gaussian quadrature is 66.46972256281289%."
   ]
  },
  {
   "cell_type": "markdown",
   "metadata": {},
   "source": [
    "# 2. Generalized method of moments estimation [10 points total]\n",
    "Suppose that your friend at the Bureau of Labor Statistics told you the following four moments (statistics) of the U.S. household income distribution in the third column of the table.\n",
    "\n",
    "| Income range | Number of households |Percent of population |\n",
    "| :--- | ---: | :---: |\n",
    "| Less than \\\\$10,000 | 9,233 | 7.6\\% |\n",
    "| \\\\$10,000 to \\\\$100,000 | 86,431 | 71.4\\% |\n",
    "| \\\\$100,000 to \\\\$160,000 | 16,347 | 13.5\\% |\n",
    "| Greater than \\\\$160,000 | 9,074 | 7.5\\% |\n",
    "\n",
    "Assume that these incomes are generated by the lognormal distribution, specified by the following probability density function (PDF).\n",
    "\n",
    "\\begin{equation*}\n",
    "\\begin{split}\n",
    "&(LN) \\quad f(x|\\mu,\\sigma) = \\frac{1}{x\\sigma\\sqrt{2\\pi}}e^{-\\frac{[\\ln(x)] - \\mu]^2}{2\\sigma^2}} \\\\\n",
    "&\\quad\\quad\\quad\\text{for}\\quad x>0, \\quad -\\infty<\\mu<\\infty, \\quad\\text{and}\\quad \\sigma>0\n",
    "\\end{split}\n",
    "\\end{equation*}"
   ]
  },
  {
   "cell_type": "markdown",
   "metadata": {},
   "source": [
    "One could plot a histogram of the information in the table above using the following code that imports the original data `hh_inc_synth.txt` from which the histogram was generated. (NOTE that you will not need to use the original data except for plotting fitted distributions over this histogram using the exact code below.)"
   ]
  },
  {
   "cell_type": "code",
   "execution_count": 9,
   "metadata": {},
   "outputs": [
    {
     "data": {
      "text/plain": [
       "Text(0, 0.5, 'Density (area sums to 1)')"
      ]
     },
     "execution_count": 9,
     "metadata": {},
     "output_type": "execute_result"
    },
    {
     "data": {
      "image/png": "[encoded data removed]",
      "text/plain": [
       "<Figure size 432x288 with 1 Axes>"
      ]
     },
     "metadata": {
      "needs_background": "light"
     },
     "output_type": "display_data"
    }
   ],
   "source": [
    "import numpy as np\n",
    "import matplotlib.pyplot as plt\n",
    "\n",
    "hh_inc_synth = np.loadtxt('data/hh_inc_synth.txt')\n",
    "\n",
    "bin_bound_list = [0, 10000, 100000, 160000, 350000]\n",
    "bin_widths = np.array([10000, 90000, 60000, 190000])\n",
    "N = len(hh_inc_synth)\n",
    "weight_inc = np.zeros(N)\n",
    "in_bin_1 = hh_inc_synth <= 10000\n",
    "in_bin_2 = (hh_inc_synth > 10000) * (hh_inc_synth <= 100000)\n",
    "in_bin_3 = (hh_inc_synth > 100000) * (hh_inc_synth <= 160000)\n",
    "in_bin_4 = hh_inc_synth > 160000\n",
    "weight_inc[in_bin_1] = 1 / (N * 10000)\n",
    "weight_inc[in_bin_2] = 1 / (N * 90000)\n",
    "weight_inc[in_bin_3] = 1 / (N * 60000)\n",
    "weight_inc[in_bin_4] = 1 / (N * 190000)\n",
    "\n",
    "n, bin_cuts, patches = \\\n",
    "    plt.hist(hh_inc_synth, bin_bound_list, edgecolor='black',\n",
    "             weights=weight_inc, label='data histogram')\n",
    "plt.title(r'Histogram of household income: $N=121,085$',\n",
    "          fontsize=13)\n",
    "plt.xticks(np.array([0, 10000, 100000, 160000, 350000]),\n",
    "           ('$0', '$10', '$100', '$160', '$350'))\n",
    "plt.xlabel(r'Household income (\\$000)')\n",
    "plt.ylabel(r'Density (area sums to 1)')"
   ]
  },
  {
   "cell_type": "markdown",
   "metadata": {},
   "source": [
    "Some python code for the PDF of the lognormal distribution is the following."
   ]
  },
  {
   "cell_type": "code",
   "execution_count": 1,
   "metadata": {},
   "outputs": [],
   "source": [
    "def LN_pdf(xvals, mu, sigma):\n",
    "    '''\n",
    "    --------------------------------------------------------------------\n",
    "    This function gives the PDF of the lognormal distribution for xvals\n",
    "    given mu and sigma\n",
    "\n",
    "    (LN): f(x; mu, sigma) = (1 / (x * sigma * sqrt(2 * pi))) *\n",
    "            exp((-1 / 2) * (((log(x) - mu) / sigma) ** 2))\n",
    "            x in [0, infty), mu in (-infty, infty), sigma > 0\n",
    "    --------------------------------------------------------------------\n",
    "    INPUTS:\n",
    "    xvals = (N,) vector, data\n",
    "    mu    = scalar, mean of the ln(x)\n",
    "    sigma = scalar > 0, standard deviation of ln(x)\n",
    "\n",
    "    OTHER FUNCTIONS AND FILES CALLED BY THIS FUNCTION: None\n",
    "\n",
    "    OBJECTS CREATED WITHIN FUNCTION:\n",
    "    pdf_vals        = (N,) vector, probability of each observation given\n",
    "                      the parameter values\n",
    "\n",
    "    FILES CREATED BY THIS FUNCTION: None\n",
    "\n",
    "    RETURNS: pdf_vals\n",
    "    --------------------------------------------------------------------\n",
    "    '''\n",
    "    pdf_vals = np.float64(((1 / (np.sqrt(2 * np.pi) * sigma * xvals)) *\n",
    "                          np.exp((-1.0 / 2.0) *\n",
    "                          (((np.log(xvals) - mu) / sigma) ** 2))))\n",
    "\n",
    "    return pdf_vals"
   ]
  },
  {
   "cell_type": "markdown",
   "metadata": {},
   "source": [
    "The following will help you to calculate your model moments. Using numerical integration of the PDF of the log normal distribution in your GMM minimization problem takes too long. The following method uses the cummulative distribution function (CDF). For a given $\\mu$ and $\\sigma$ of the log normal distribution, you can calculate the percent of a distribution between a lower bound `LB` and upper bound `UB` of income using the following code."
   ]
  },
  {
   "cell_type": "code",
   "execution_count": null,
   "metadata": {},
   "outputs": [],
   "source": [
    "import scipy.stats as sts\n",
    "\n",
    "pct_LBtoUB = (sts.lognorm.cdf(UB, s=sigma, scale=np.exp(mu)) -\n",
    "              sts.lognorm.cdf(LB, s=sigma, scale=np.exp(mu)))"
   ]
  },
  {
   "cell_type": "markdown",
   "metadata": {},
   "source": [
    "## 2a) Plot a log normal distribution with the histogram (2 points)\n",
    "Plot a log normal distribution with mean $\\mu=11.5$ and $\\sigma=0.9$ using the `LN_pdf()` code for the lognorm PDF above. Plot the log normal distribution over the histogram using the histogram code above. Make sure to use the same `x`-axis and `y`-axis labels as in the histogram plot above. Make sure to put a legend in the upper-right corner."
   ]
  },
  {
   "cell_type": "code",
   "execution_count": 30,
   "metadata": {},
   "outputs": [],
   "source": [
    "def LN_pdf(xvals, mu, sigma):\n",
    "    '''\n",
    "    --------------------------------------------------------------------\n",
    "    This function gives the PDF of the lognormal distribution for xvals\n",
    "    given mu and sigma\n",
    "\n",
    "    (LN): f(x; mu, sigma) = (1 / (x * sigma * sqrt(2 * pi))) *\n",
    "            exp((-1 / 2) * (((log(x) - mu) / sigma) ** 2))\n",
    "            x in [0, infty), mu in (-infty, infty), sigma > 0\n",
    "    --------------------------------------------------------------------\n",
    "    INPUTS:\n",
    "    xvals = (N,) vector, data\n",
    "    mu    = scalar, mean of the ln(x)\n",
    "    sigma = scalar > 0, standard deviation of ln(x)\n",
    "\n",
    "    OTHER FUNCTIONS AND FILES CALLED BY THIS FUNCTION: None\n",
    "\n",
    "    OBJECTS CREATED WITHIN FUNCTION:\n",
    "    pdf_vals        = (N,) vector, probability of each observation given\n",
    "                      the parameter values\n",
    "\n",
    "    FILES CREATED BY THIS FUNCTION: None\n",
    "\n",
    "    RETURNS: pdf_vals\n",
    "    --------------------------------------------------------------------\n",
    "    '''\n",
    "    pdf_vals = np.float64(((1 / (np.sqrt(2 * np.pi) * sigma * xvals)) *\n",
    "                          np.exp((-1.0 / 2.0) *\n",
    "                          (((np.log(xvals) - mu) / sigma) ** 2))))\n",
    "\n",
    "    return pdf_vals"
   ]
  },
  {
   "cell_type": "code",
   "execution_count": 75,
   "metadata": {},
   "outputs": [
    {
     "data": {
      "text/plain": [
       "<matplotlib.legend.Legend at 0x1a70af9f98>"
      ]
     },
     "execution_count": 75,
     "metadata": {},
     "output_type": "execute_result"
    },
    {
     "data": {
      "image/png": "[encoded data removed]",
      "text/plain": [
       "<Figure size 432x288 with 1 Axes>"
      ]
     },
     "metadata": {
      "needs_background": "light"
     },
     "output_type": "display_data"
    }
   ],
   "source": [
    "import numpy as np\n",
    "import matplotlib.pyplot as plt\n",
    "\n",
    "hh_inc_synth = np.loadtxt('data/hh_inc_synth.txt')\n",
    "\n",
    "bin_bound_list = [0, 10000, 100000, 160000, 350000]\n",
    "bin_widths = np.array([10000, 90000, 60000, 190000])\n",
    "N = len(hh_inc_synth)\n",
    "weight_inc = np.zeros(N)\n",
    "in_bin_1 = hh_inc_synth <= 10000\n",
    "in_bin_2 = (hh_inc_synth > 10000) * (hh_inc_synth <= 100000)\n",
    "in_bin_3 = (hh_inc_synth > 100000) * (hh_inc_synth <= 160000)\n",
    "in_bin_4 = hh_inc_synth > 160000\n",
    "weight_inc[in_bin_1] = 1 / (N * 10000)\n",
    "weight_inc[in_bin_2] = 1 / (N * 90000)\n",
    "weight_inc[in_bin_3] = 1 / (N * 60000)\n",
    "weight_inc[in_bin_4] = 1 / (N * 190000)\n",
    "\n",
    "n, bin_cuts, patches = \\\n",
    "    plt.hist(hh_inc_synth, bin_bound_list, edgecolor='black',\n",
    "             weights=weight_inc, label='data histogram')\n",
    "plt.title(r'Answer of 2a',\n",
    "          fontsize=13)\n",
    "plt.xticks(np.array([0, 10000, 100000, 160000, 350000]),\n",
    "           ('$0', '$10', '$100', '$160', '$350'))\n",
    "plt.xlabel(r'Household income (\\$000)')\n",
    "plt.ylabel(r'Density (area sums to 1)')\n",
    "\n",
    "mu = 11.5\n",
    "sigma = 0.9\n",
    "xval = np.linspace(1e-9, 350000, 200000)\n",
    "plt.plot(xval, LN_pdf(xval, mu, sigma),\n",
    "         linewidth=2, color='y', label='$\\mu$=11.5,$\\sigma$=0.9')\n",
    "plt.legend(loc='upper right')"
   ]
  },
  {
   "cell_type": "markdown",
   "metadata": {},
   "source": [
    "## 2b) GMM estimation with identity weighting matrix (5 points)\n",
    "Using the four moments in the table above fit the log normal distribution to the income data using GMM and the identity matix for the optimal weighting matrix. More specifically, estimate $\\mu$ and $\\sigma$ from the log normal distribution to match the percentage moments in the third column of the table above with the income bin cutoffs listed in the first column of the table above. Report your estimates $\\mu_{GMM1}$ and $\\sigma_{GMM1}$, criterion function value, data moments, and model moments at your estimated parameter values. Plot your estimated log normal distribution on top of the histogram of the data given in the code above. [**HINT:** Use the log normal CDF approach described above to calculate your model moments. Using numerical integrals will take too long.]"
   ]
  },
  {
   "cell_type": "code",
   "execution_count": 67,
   "metadata": {},
   "outputs": [
    {
     "data": {
      "text/plain": [
       "0.28573622653512765"
      ]
     },
     "execution_count": 67,
     "metadata": {},
     "output_type": "execute_result"
    }
   ],
   "source": [
    "import scipy.stats as sts\n",
    "import scipy.optimize as opt\n",
    "\n",
    "def pct_LBtoUB(LB, UB):\n",
    "    return sts.lognorm.cdf(UB, s=sigma, scale=np.exp(mu)) - sts.lognorm.cdf(LB, s=sigma, scale=np.exp(mu))\n",
    "\n"
   ]
  },
  {
   "cell_type": "code",
   "execution_count": 68,
   "metadata": {},
   "outputs": [],
   "source": [
    "data_moments = (0.076, 0.714, 0.135, 0.075)\n",
    "\n",
    "\n",
    "def model_moments(mu, sigma):\n",
    "\n",
    "    \n",
    "    bpct_1_mod = sts.lognorm.cdf(10000, s=sigma, scale=np.exp(mu))\n",
    "    bpct_2_mod = pct_LBtoUB(10000, 100000)\n",
    "    bpct_3_mod = pct_LBtoUB(100000, 160000)\n",
    "    bpct_4_mod = 1 - sts.lognorm.cdf(160000, s=sigma, scale=np.exp(mu))\n",
    "    \n",
    "    return bpct_1_mod, bpct_2_mod, bpct_3_mod, bpct_4_mod\n",
    "\n",
    "\n",
    "def err_vec(xvals, mu, sigma, simple):\n",
    "    \n",
    "    bpct_1_dat, bpct_2_dat, bpct_3_dat, bpct_4_dat = data_moments\n",
    "    moms_data = np.array([[bpct_1_dat], [bpct_2_dat], [bpct_3_dat], [bpct_4_dat]])\n",
    "    bpct_1_mod, bpct_2_mod, bpct_3_mod, bpct_4_mod = model_moments(mu, sigma)\n",
    "    moms_model = np.array([[bpct_1_mod], [bpct_2_mod], [bpct_3_mod], [bpct_4_mod]])\n",
    "    if simple:\n",
    "        err_vec = moms_model - moms_data\n",
    "    else:\n",
    "        err_vec = (moms_model - moms_data) / moms_data\n",
    "    \n",
    "    return err_vec\n",
    "\n",
    "\n",
    "def criterion(params, *args):\n",
    "    \n",
    "    mu, sigma = params\n",
    "    xvals, W = args\n",
    "    err = err_vec(xvals, mu, sigma, simple=False)\n",
    "    crit_val = err.T @ W @ err \n",
    "    \n",
    "    return crit_val"
   ]
  },
  {
   "cell_type": "code",
   "execution_count": 77,
   "metadata": {},
   "outputs": [
    {
     "name": "stdout",
     "output_type": "stream",
     "text": [
      "mu_GMM1= 10.593241979063288  sig_GMM1= 0.9653743359184873\n"
     ]
    }
   ],
   "source": [
    "mu_init = 11.5\n",
    "sig_init = 0.9\n",
    "params_init = np.array([mu_init, sig_init])\n",
    "W_hat1 = np.eye(4)\n",
    "gmm_args = (hh_inc_synth, W_hat1)\n",
    "results = opt.minimize(criterion, params_init, args=(gmm_args),\n",
    "                       method='L-BFGS-B', bounds=((1e-10, None), (1e-10, None)))\n",
    "mu_GMM1, sig_GMM1 = results.x\n",
    "print('mu_GMM1=', mu_GMM1, ' sig_GMM1=', sig_GMM1)"
   ]
  },
  {
   "cell_type": "code",
   "execution_count": 78,
   "metadata": {},
   "outputs": [
    {
     "data": {
      "text/plain": [
       "      fun: array([[0.31083212]])\n",
       " hess_inv: <2x2 LbfgsInvHessProduct with dtype=float64>\n",
       "      jac: array([-9.54791801e-07, -6.65578703e-06])\n",
       "  message: b'CONVERGENCE: NORM_OF_PROJECTED_GRADIENT_<=_PGTOL'\n",
       "     nfev: 27\n",
       "      nit: 8\n",
       "   status: 0\n",
       "  success: True\n",
       "        x: array([10.59324198,  0.96537434])"
      ]
     },
     "execution_count": 78,
     "metadata": {},
     "output_type": "execute_result"
    }
   ],
   "source": [
    "results"
   ]
  },
  {
   "cell_type": "markdown",
   "metadata": {},
   "source": [
    "## Answer of 2b"
   ]
  },
  {
   "cell_type": "code",
   "execution_count": 82,
   "metadata": {},
   "outputs": [
    {
     "name": "stdout",
     "output_type": "stream",
     "text": [
      "estimation of μGMM1 and σGMM1: \n",
      " [10.59324198  0.96537434]\n",
      "data moments at estimated parameter values: \n",
      " (0.076, 0.714, 0.135, 0.075)\n",
      "model moments at estimated parameter values: \n",
      " (0.07599996381891475, 0.5002507485887614, 0.19849457835074924, 0.07499994466645954)\n",
      "criterion function value at estimated parameter values: \n",
      " [[0.31083212]]\n"
     ]
    }
   ],
   "source": [
    "params = np.array([mu_GMM1, sig_GMM1])\n",
    "print('estimation of μGMM1 and σGMM1: \\n', params)\n",
    "print('data moments at estimated parameter values: \\n', data_moments)\n",
    "print('model moments at estimated parameter values: \\n', model_moments(mu_GMM1, sig_GMM1))\n",
    "print('criterion function value at estimated parameter values: \\n', criterion(params, income, np.eye(4)))"
   ]
  },
  {
   "cell_type": "code",
   "execution_count": 80,
   "metadata": {},
   "outputs": [
    {
     "data": {
      "image/png": "[encoded data removed]",
      "text/plain": [
       "<Figure size 432x288 with 1 Axes>"
      ]
     },
     "metadata": {
      "needs_background": "light"
     },
     "output_type": "display_data"
    }
   ],
   "source": [
    "bin_bound_list = [0, 10000, 100000, 160000, 350000]\n",
    "bin_widths = np.array([10000, 90000, 60000, 190000])\n",
    "N = len(hh_inc_synth)\n",
    "weight_inc = np.zeros(N)\n",
    "in_bin_1 = hh_inc_synth <= 10000\n",
    "in_bin_2 = (hh_inc_synth > 10000) * (hh_inc_synth <= 100000)\n",
    "in_bin_3 = (hh_inc_synth > 100000) * (hh_inc_synth <= 160000)\n",
    "in_bin_4 = hh_inc_synth > 160000\n",
    "weight_inc[in_bin_1] = 1 / (N * 10000)\n",
    "weight_inc[in_bin_2] = 1 / (N * 90000)\n",
    "weight_inc[in_bin_3] = 1 / (N * 60000)\n",
    "weight_inc[in_bin_4] = 1 / (N * 190000)\n",
    "\n",
    "n, bin_cuts, patches = \\\n",
    "    plt.hist(hh_inc_synth, bin_bound_list, edgecolor='black',\n",
    "             weights=weight_inc, label='data histogram')\n",
    "plt.title(r'Answer of 2b',\n",
    "          fontsize=13)\n",
    "plt.xticks(np.array([0, 10000, 100000, 160000, 350000]),\n",
    "           ('$0', '$10', '$100', '$160', '$350'))\n",
    "plt.xlabel(r'Household income (\\$000)')\n",
    "plt.ylabel(r'Density (area sums to 1)')\n",
    "\n",
    "mu = 11.5\n",
    "sigma = 0.9\n",
    "xval = np.linspace(1e-9, 350000, 200000)\n",
    "plt.plot(xval, LN_pdf(xval, mu, sigma),\n",
    "         linewidth=2, color='y', label='$\\mu$=11.5,$\\sigma$=0.9')\n",
    "plt.legend(loc='upper right')\n",
    "\n",
    "plt.plot(xval, LN_pdf(xval, mu_GMM1, sig_GMM1),\n",
    "         linewidth=2, color='r', label='$\\mu_{GMM1}$=10.59,$\\sigma_{GMM1}$=0.96')\n",
    "plt.legend(loc='upper right')\n",
    "\n",
    "plt.show()"
   ]
  },
  {
   "cell_type": "markdown",
   "metadata": {},
   "source": [
    "## 2c) GMM estimation with two-step optimal weighting matrix (3 points)\n",
    "Using the four moments in the table above fit the log normal distribution to the income data using GMM and the two-step optimal weighting matrix. More specifically, estimate $\\mu$ and $\\sigma$ from the log normal distribution to match the percentage moments in the third column of the table above with the income bin cutoffs listed in the first column of the table above. Report your estimates $\\mu_{GMM2}$ and $\\sigma_{GMM2}$, criterion function value, data moments, and model moments at your estimated parameter values. Plot your estimated log normal distribution on top of the histogram of the data given in the code above. [**HINT:** Use the log normal CDF approach described above to calculate your model moments. Using numerical integrals will take too long.]"
   ]
  }
 ],
 "metadata": {
  "kernelspec": {
   "display_name": "Python 3",
   "language": "python",
   "name": "python3"
  },
  "language_info": {
   "codemirror_mode": {
    "name": "ipython",
    "version": 3
   },
   "file_extension": ".py",
   "mimetype": "text/x-python",
   "name": "python",
   "nbconvert_exporter": "python",
   "pygments_lexer": "ipython3",
   "version": "3.7.0"
  }
 },
 "nbformat": 4,
 "nbformat_minor": 2
}
