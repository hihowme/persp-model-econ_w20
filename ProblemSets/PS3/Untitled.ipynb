{
 "cells": [
  {
   "cell_type": "code",
   "execution_count": 2,
   "metadata": {},
   "outputs": [
    {
     "data": {
      "text/plain": [
       "[<matplotlib.lines.Line2D at 0x118b47be0>]"
      ]
     },
     "execution_count": 2,
     "metadata": {},
     "output_type": "execute_result"
    },
    {
     "data": {
      "image/png": "[encoded data removed]",
      "text/plain": [
       "<Figure size 432x288 with 1 Axes>"
      ]
     },
     "metadata": {
      "needs_background": "light"
     },
     "output_type": "display_data"
    }
   ],
   "source": [
    "import numpy as np\n",
    "import matplotlib.pyplot as plt\n",
    "\n",
    "sigma = 1.8\n",
    "N = 100\n",
    "c = np.linspace(0.7, 5.0, N)\n",
    "MU_ct = lambda x: x ** (-sigma)\n",
    "plt.xlabel('consumption')\n",
    "plt.ylabel('marginal utility')\n",
    "plt.plot(c, MU_ct(c))"
   ]
  },
  {
   "cell_type": "code",
   "execution_count": 15,
   "metadata": {},
   "outputs": [
    {
     "data": {
      "text/plain": [
       "-sigma*(rt + 1)*(bt*(rt + 1) - bt1 + wt)**(-sigma)/(bt*(rt + 1) - bt1 + wt)"
      ]
     },
     "execution_count": 15,
     "metadata": {},
     "output_type": "execute_result"
    }
   ],
   "source": [
    "import sympy as sy\n",
    "\n",
    "bt = sy.symbols('bt')\n",
    "bt1 = sy.symbols('bt1')\n",
    "wt = sy.symbols('wt')\n",
    "rt = sy.symbols('rt')\n",
    "sigma = sy.symbols('sigma')\n",
    "\n",
    "mu = ((1 + rt) * bt + wt - bt1) ** (-sigma)\n",
    "sy.diff(mu, bt)"
   ]
  },
  {
   "cell_type": "code",
   "execution_count": 22,
   "metadata": {},
   "outputs": [
    {
     "data": {
      "text/plain": [
       "-1.8592010790841615"
      ]
     },
     "execution_count": 22,
     "metadata": {},
     "output_type": "execute_result"
    }
   ],
   "source": [
    "def dMU_c(bt, bt1, wt, rt, sigma):\n",
    "    return ((-sigma)*(rt + 1)*(bt*(rt + 1) - bt1 + wt)**(-sigma))/(bt*(rt + 1) - bt1 + wt)\n",
    "\n",
    "bt_=3.3\n",
    "bt1_=3.4\n",
    "wt_=1.0\n",
    "rt_=0.03\n",
    "sigma_=1.8\n",
    "dMU_c(bt_, bt1_, wt_, rt_, sigma_)"
   ]
  },
  {
   "cell_type": "code",
   "execution_count": 17,
   "metadata": {},
   "outputs": [
    {
     "name": "stdout",
     "output_type": "stream",
     "text": [
      "-1.8592010790841615\n",
      "-0.6924131800810387\n",
      "-0.684956790090091\n",
      "-0.6849560502480977\n"
     ]
    }
   ],
   "source": [
    "\n",
    "\n",
    "def dMU_c_approx(bt, bt1, wt, rt, sigma, h):\n",
    "    return ((((1 + rt) * bt + wt + h - bt1) ** (-sigma)) - (((1 + rt) * bt + wt - h - bt1) ** (-sigma))) / (2 * h)\n",
    "\n",
    "bt_a=1.0\n",
    "bt1_a=0.8\n",
    "wt_a=1.2\n",
    "rt_a=0.04\n",
    "sigma_a=2.2\n",
    "\n",
    "print(dMU_c(bt_, bt1_, wt_, rt_, sigma_))\n",
    "print(dMU_c_approx(bt_a, bt1_a, wt_a, rt_a, sigma_a, h=0.1))\n",
    "print(dMU_c_approx(bt_a, bt1_a, wt_a, rt_a, sigma_a, h=0.001))\n",
    "print(dMU_c_approx(bt_a, bt1_a, wt_a, rt_a, sigma_a, h=0.00001))"
   ]
  },
  {
   "cell_type": "code",
   "execution_count": 18,
   "metadata": {},
   "outputs": [
    {
     "data": {
      "text/plain": [
       "-sigma*(bt*(rt + 1) - bt1 + wt)**(-sigma)/(bt*(rt + 1) - bt1 + wt)"
      ]
     },
     "execution_count": 18,
     "metadata": {},
     "output_type": "execute_result"
    }
   ],
   "source": [
    "sy.diff(mu, wt)"
   ]
  },
  {
   "cell_type": "code",
   "execution_count": 23,
   "metadata": {},
   "outputs": [
    {
     "data": {
      "text/plain": [
       "-0.6849560501679459"
      ]
     },
     "execution_count": 23,
     "metadata": {},
     "output_type": "execute_result"
    }
   ],
   "source": [
    "def dMU_c1(bt, bt1, wt, rt, sigma):\n",
    "    return (-sigma)*(bt*(rt + 1) - bt1 + wt)**(-sigma)/(bt*(rt + 1) - bt1 + wt)\n",
    "\n",
    "dMU_c1(bt_a, bt1_a, wt_a, rt_a, sigma_a)"
   ]
  },
  {
   "cell_type": "code",
   "execution_count": null,
   "metadata": {},
   "outputs": [],
   "source": []
  }
 ],
 "metadata": {
  "kernelspec": {
   "display_name": "Python 3",
   "language": "python",
   "name": "python3"
  },
  "language_info": {
   "codemirror_mode": {
    "name": "ipython",
    "version": 3
   },
   "file_extension": ".py",
   "mimetype": "text/x-python",
   "name": "python",
   "nbconvert_exporter": "python",
   "pygments_lexer": "ipython3",
   "version": "3.7.0"
  }
 },
 "nbformat": 4,
 "nbformat_minor": 2
}
