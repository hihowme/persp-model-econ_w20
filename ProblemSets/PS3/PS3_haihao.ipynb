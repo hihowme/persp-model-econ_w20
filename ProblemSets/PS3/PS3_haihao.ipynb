{
 "cells": [
  {
   "cell_type": "markdown",
   "metadata": {},
   "source": [
    "# Problem Set #3"
   ]
  },
  {
   "cell_type": "markdown",
   "metadata": {},
   "source": [
    "MACS 30000, Dr. Evans"
   ]
  },
  {
   "cell_type": "markdown",
   "metadata": {},
   "source": [
    "Haihao Guo"
   ]
  },
  {
   "cell_type": "markdown",
   "metadata": {},
   "source": [
    "## Exercise 1"
   ]
  },
  {
   "cell_type": "markdown",
   "metadata": {},
   "source": [
    "$$\n",
    "\\max U = \\max _{W_{T+1} } u\\left(W_{T}-W_{T+1}\\right)\n",
    "$$\n",
    "In this case, the optimal size tomorrow should be as low as possible because the individual only lives for 1 period and he cannot eat it next life. Therefore, the optimal amount of cake to eat in period 1 is all the cake and the optimal amount for $W_{T+1}$ or $W_{2}$ is 0."
   ]
  },
  {
   "cell_type": "markdown",
   "metadata": {},
   "source": [
    "## Exercise 2"
   ]
  },
  {
   "cell_type": "markdown",
   "metadata": {},
   "source": [
    "$$\n",
    "\\max U = \\max _{W_{2},   W_{3}} \\sum_{t=1}^{2} \\beta^{t-1} u\\left(W_{t}-W_{t+1}\\right) = \\max _{W_{2},   W_{3}}  \\beta u\\left(W_{2}-W_{3}\\right) + u\\left(W_{1}-W_{2}\\right)\n",
    "$$\n",
    "\n",
    "In this case, if we treat $T_{1}$ and $T_{2}$ all as the $T_{1}$ in Exercise 1, we could use the same logic that the individual would consume all the cake before he dies to find out that the optimal amount of cake to leave for the next period $W_{3}$ in period 2 is 0. We need to use the first order condition for the second question:\n",
    "\n",
    "$$\n",
    "\\frac{\\partial U}{\\partial W_2} = \\frac{\\partial U}{\\partial c_1}\\frac{\\partial c_1}{\\partial W_2} + \\beta\\frac{\\partial U}{\\partial c_2}\\frac{\\partial c_2}{\\partial W_2}=0\n",
    "$$\n",
    "\n",
    "Therefore, the condition that characterizes the optimal amount of cake leave for the next period $W_2$ in period 1 is given by the equation below, which is derived from the first order condition function:\n",
    "\n",
    "$$\n",
    " {u^\\prime (W_1 - W_2)} = \\beta{u^\\prime (W_2)}\n",
    "$$"
   ]
  },
  {
   "cell_type": "markdown",
   "metadata": {},
   "source": [
    "## Exercise 3"
   ]
  },
  {
   "cell_type": "markdown",
   "metadata": {},
   "source": [
    "$$\n",
    "\\max U = \\max _{W_{2}, W_{3}, W_{4}} \\sum_{t=1}^{3} \\beta^{t-1} u\\left(W_{t}-W_{t+1}\\right) = \\max _{W_{2}, W_{3}, W_{4}} \\beta^2 u\\left(W_{3}-W_{4}\\right) + \\beta u\\left(W_{2}-W_{3}\\right) + u\\left(W_{1}-W_{2}\\right)\n",
    "$$\n",
    "\n",
    "For the same logic in Exercise 1 and Exercise 2, the individual would consume all the cake before he dies. Therefore, the optimal amount of cake to leave for the next period $W_{4}$ in period 3 is 0. According to the first order condition, we could get the condition for the optimal amount in period 1 and period 2:\n",
    "\n",
    "$$\n",
    "\\frac{\\partial U}{\\partial W_2} = \\frac{\\partial U}{\\partial c_1}\\frac{\\partial c_1}{\\partial W_2} + \\beta\\frac{\\partial U}{\\partial c_2}\\frac{\\partial c_2}{\\partial W_2} = 0\n",
    "$$\n",
    "\n",
    "$$\n",
    "\\frac{\\partial U}{\\partial W_3} = \\beta\\frac{\\partial U}{\\partial c_2}\\frac{\\partial c_2}{\\partial W_3} + \\beta^2\\frac{\\partial U}{\\partial c_3}\\frac{\\partial c_3}{\\partial W_3} = 0\n",
    "$$\n",
    "\n",
    "$$\n",
    " {u^\\prime (W_1 - W_2)} = \\beta{u^\\prime (W_2 - W_3)}\n",
    "$$\n",
    "\n",
    "$$\n",
    "\\beta{u^\\prime (W_2 - W_3)} = \\beta^2{u^\\prime (W_3)}\n",
    "$$\n",
    "\n",
    "Use the condition that $W_1 = 1$, $\\beta = 0.9$, $u = ln(c_t)$, and plug those condition into the equations we got, we could get the path of W and c:\n",
    "\n",
    "$$\n",
    "W_{1} = 1, W_{2} = 0.631, W_{3} = 0.299, W_{4} = 0\n",
    "$$\n",
    "\n",
    "$$\n",
    "c_{1} = 0.369, c_{2} = 0.332, c_{3} = 0.299\n",
    "$$"
   ]
  },
  {
   "cell_type": "markdown",
   "metadata": {},
   "source": [
    "## Exercise 4"
   ]
  },
  {
   "cell_type": "markdown",
   "metadata": {},
   "source": [
    "The condition that characterizes the optimal choice (the policy function) in period $T − 1$ for $W_T = \\psi_{T−1} (W_{T −1})$ is as below:\n",
    "\n",
    "$$\n",
    "V_{T-1}\\left(W_{T-1}\\right) \\equiv \\max _{\\psi_{T−1} (W_{T −1})} u\\left(W_{T-1}-\\psi_{T−1} (W_{T −1})\\right)+\\beta u\\left(\\psi_{T−1} (W_{T −1})\\right)\n",
    "$$\n",
    "\n",
    "The first order condition shows us the final condition:\n",
    "\n",
    "$$\n",
    "-u^{\\prime}\\left(W_{T-1}-\\psi_{T-1}\\left(W_{T-1}\\right)\\right)+\\beta u^{\\prime}\\left(\\psi_{T-1}\\left(W_{T-1}\\right)\\right)=0\n",
    "$$\n",
    "\n",
    "Value function:\n",
    "\n",
    "$$\n",
    "V_{T-1}\\left(W_{T-1}\\right) = u\\left(W_{T-1}-\\psi_{T-1}\\left(W_{T-1}\\right)\\right)+\\beta u\\left(\\psi_{T-1}\\left(W_{T-1}\\right)\\right)\n",
    "$$"
   ]
  },
  {
   "cell_type": "markdown",
   "metadata": {},
   "source": [
    "## Exercise 5"
   ]
  },
  {
   "cell_type": "markdown",
   "metadata": {},
   "source": [
    "In the period T, we know that:\n",
    "\n",
    "$$\n",
    "V_{T}\\left(\\bar{W}\\right)=u\\left(\\bar{W}\\right)=\\ln \\left(\\bar{W}\\right)\n",
    "$$\n",
    "\n",
    "$$\n",
    "\\psi_{T}(\\bar{W})=W_{T+1}=0\n",
    "$$\n",
    "\n",
    "In the period of T-1, the optimal condition requires:\n",
    "\n",
    "$$\n",
    "V_{T-1}(\\bar{W})=\\max _{W_{T}} \\ln \\left(\\bar{W}-W_{T}\\right)+\\beta \\ln \\left(W_{T}\\right)\n",
    "$$\n",
    "\n",
    "The first order condition shows us the final condition:\n",
    "\n",
    "$$\n",
    "W_{T}=\\frac{\\beta \\bar{W}}{1+\\beta}\n",
    "$$\n",
    "\n",
    "The following completes the proof of the inequality:\n",
    "\n",
    "$$\n",
    "V_{T-1}(\\bar{W})=\\ln \\left(\\frac{\\bar{W}}{1+\\beta}\\right)+\\beta \\ln \\left(\\frac{\\beta \\bar{W}}{1+\\beta}\\right) \\neq V_{T}(\\bar{W}) = \\ln \\left(\\bar{W}\\right)\n",
    "$$\n",
    "\n",
    "$$\n",
    "\\psi_{T-1}(\\bar{W})=\\frac{\\beta \\bar{W}}{1+\\beta}\\neq \\psi_{T}(\\bar{W})\n",
    "$$"
   ]
  },
  {
   "cell_type": "markdown",
   "metadata": {},
   "source": [
    "## Exercise 6"
   ]
  },
  {
   "cell_type": "markdown",
   "metadata": {},
   "source": [
    "The finite horizon Bellman equation for the value function at time T − 2:\n",
    "  \n",
    "$$\n",
    "V_{T-2}\\left(W_{T-2}\\right)= \\max _{W_{T}-1} \\ln \\left(W_{T-2}-W_{T-1}\\right)+\\beta V_{T-1}\\left(W_{T-1}\\right)\n",
    "$$\n",
    "\n",
    "$$\n",
    "V_{T-2}\\left(W_{T-2}\\right)= \\max _{W_{T-1}, {W_{T}}}\\ln \\left(W_{T-2}-W_{T-1}\\right)+\\beta \\ln \\left(W_{T-1}-W_{T}\\right)+\\beta^{2} \\ln \\left(W_{T}\\right)\n",
    "$$\n",
    "\n",
    "From Exercise 5 we have:\n",
    "\n",
    "$$\n",
    "W_{T}=\\frac{\\beta W_{T-1}}{1+\\beta}\n",
    "$$\n",
    "\n",
    "From the first order condition we could have:\n",
    "\n",
    "$$\n",
    "\\beta^2(W_{T-2}-W_{T-1}) = W_T\n",
    "$$\n",
    "\n",
    "Combining the equations above, we could have the analytical solution for $W_{T-1} = \\psi_{T-2}\\left(W_{T-2}\\right)$:\n",
    "\n",
    "$$\n",
    "W_{T-1} = \\psi_{T-2}\\left(W_{T-2}\\right)=\\frac{\\beta+\\beta^{2}}{1+\\beta+\\beta^{2}} W_{T-2}\n",
    "$$\n",
    "\n",
    "We could also have the analytical solution for $V_{T-2}\\left(W_{T-2}\\right)$:\n",
    "\n",
    "$$\n",
    "V_{T-2}\\left(W_{T-2}\\right)=\\ln \\left(\\frac{W_{T-2}}{1+\\beta+\\beta^{2}}\\right)+\\beta \\ln \\left(\\frac{\\beta W_{T-2}}{1+\\beta+\\beta^{2}}\\right)+\\beta^{2} \\ln \\left(\\frac{\\beta^{2} W_{T-2}}{1+\\beta+\\beta^{2}}\\right)\n",
    "$$"
   ]
  },
  {
   "cell_type": "markdown",
   "metadata": {},
   "source": [
    "## Exercise 7"
   ]
  },
  {
   "cell_type": "markdown",
   "metadata": {},
   "source": [
    "By induction, we could get the following result:\n",
    "$$\n",
    "\\psi_{T-s}(W_{T-s})=\\frac{\\sum\\limits_{i=1}^{s}\\beta^{i}}{\\sum\\limits_{i=0}^{s}\\beta^{i}}W_{T-s}\n",
    "$$\n",
    "\n",
    "$$\n",
    "V_{T-s}(W_{T-s}) = \\sum\\limits_{i=0}^{s}\\beta^{i} · ln\\left(\\frac{\\beta^{i}}{\\sum\\limits_{j=0}^{s}\\beta^{j}} W_{T-s} \\right)\n",
    "$$\n",
    "\n",
    "$$ \n",
    "\\lim _{s \\rightarrow \\infty} V_{T-s}\\left(W_{T-s}\\right)=V\\left(W_{T-s}\\right) = \\left(\\frac{1}{1-\\beta}\\right) \\ln \\left((1-\\beta){ W_{T-s}}\\right)+\\frac{\\beta}{(1-\\beta)^{2}} \\ln (\\beta) \n",
    "$$\n",
    "\n",
    "$$ \n",
    "\\lim _{s \\rightarrow \\infty} \\psi_{T-s}\\left(W_{T-s}\\right)=\\psi\\left(W_{T-s}\\right)=\\beta W_{T-s} \n",
    "$$"
   ]
  },
  {
   "cell_type": "markdown",
   "metadata": {},
   "source": [
    "## Exercise 8"
   ]
  },
  {
   "cell_type": "markdown",
   "metadata": {},
   "source": [
    "The Bellman equation for the cake eating problem with a general utility function u(c) when the horizon is infinite is:\n",
    "\n",
    "$$\n",
    "V(W)=\\max _{W^{\\prime} \\in[0, W]} u\\left(W-W^{\\prime}\\right)+\\beta V\\left(W^{\\prime}\\right)\n",
    "$$"
   ]
  },
  {
   "cell_type": "markdown",
   "metadata": {},
   "source": [
    "## Exercise 9"
   ]
  },
  {
   "cell_type": "code",
   "execution_count": 2,
   "metadata": {},
   "outputs": [
    {
     "name": "stdout",
     "output_type": "stream",
     "text": [
      "[0.01 0.02 0.03 0.04 0.05 0.06 0.07 0.08 0.09 0.1  0.11 0.12 0.13 0.14\n",
      " 0.15 0.16 0.17 0.18 0.19 0.2  0.21 0.22 0.23 0.24 0.25 0.26 0.27 0.28\n",
      " 0.29 0.3  0.31 0.32 0.33 0.34 0.35 0.36 0.37 0.38 0.39 0.4  0.41 0.42\n",
      " 0.43 0.44 0.45 0.46 0.47 0.48 0.49 0.5  0.51 0.52 0.53 0.54 0.55 0.56\n",
      " 0.57 0.58 0.59 0.6  0.61 0.62 0.63 0.64 0.65 0.66 0.67 0.68 0.69 0.7\n",
      " 0.71 0.72 0.73 0.74 0.75 0.76 0.77 0.78 0.79 0.8  0.81 0.82 0.83 0.84\n",
      " 0.85 0.86 0.87 0.88 0.89 0.9  0.91 0.92 0.93 0.94 0.95 0.96 0.97 0.98\n",
      " 0.99 1.  ]\n"
     ]
    }
   ],
   "source": [
    "import numpy as np\n",
    "\n",
    "N = 100\n",
    "W_max = 1.0\n",
    "W_min = 0.01\n",
    "W_vec = np.linspace(W_min, W_max, N)\n",
    "print(W_vec)"
   ]
  },
  {
   "cell_type": "markdown",
   "metadata": {},
   "source": [
    "## Exercise 10"
   ]
  },
  {
   "cell_type": "markdown",
   "metadata": {},
   "source": [
    "The resulting policy function is $W^\\prime = 0$ and value function is $V_T(W) = \\ln (W)$"
   ]
  },
  {
   "cell_type": "code",
   "execution_count": 3,
   "metadata": {},
   "outputs": [
    {
     "name": "stdout",
     "output_type": "stream",
     "text": [
      "[-4.60517019 -3.91202301 -3.5065579  -3.21887582 -2.99573227 -2.81341072\n",
      " -2.65926004 -2.52572864 -2.40794561 -2.30258509 -2.20727491 -2.12026354\n",
      " -2.04022083 -1.96611286 -1.89711998 -1.83258146 -1.77195684 -1.71479843\n",
      " -1.66073121 -1.60943791 -1.56064775 -1.51412773 -1.46967597 -1.42711636\n",
      " -1.38629436 -1.34707365 -1.30933332 -1.27296568 -1.23787436 -1.2039728\n",
      " -1.17118298 -1.13943428 -1.10866262 -1.07880966 -1.04982212 -1.02165125\n",
      " -0.99425227 -0.96758403 -0.94160854 -0.91629073 -0.89159812 -0.86750057\n",
      " -0.84397007 -0.82098055 -0.7985077  -0.77652879 -0.75502258 -0.73396918\n",
      " -0.71334989 -0.69314718 -0.67334455 -0.65392647 -0.63487827 -0.61618614\n",
      " -0.597837   -0.5798185  -0.56211892 -0.54472718 -0.52763274 -0.51082562\n",
      " -0.49429632 -0.4780358  -0.46203546 -0.4462871  -0.43078292 -0.41551544\n",
      " -0.40047757 -0.38566248 -0.37106368 -0.35667494 -0.34249031 -0.32850407\n",
      " -0.31471074 -0.30110509 -0.28768207 -0.27443685 -0.26136476 -0.24846136\n",
      " -0.23572233 -0.22314355 -0.21072103 -0.19845094 -0.18632958 -0.17435339\n",
      " -0.16251893 -0.15082289 -0.13926207 -0.12783337 -0.11653382 -0.10536052\n",
      " -0.09431068 -0.08338161 -0.07257069 -0.0618754  -0.05129329 -0.04082199\n",
      " -0.03045921 -0.02020271 -0.01005034  0.        ]\n"
     ]
    },
    {
     "data": {
      "text/plain": [
       "[<matplotlib.lines.Line2D at 0x1137d26d8>]"
      ]
     },
     "execution_count": 3,
     "metadata": {},
     "output_type": "execute_result"
    },
    {
     "data": {
      "image/png": "[encoded data removed]",
      "text/plain": [
       "<Figure size 432x288 with 1 Axes>"
      ]
     },
     "metadata": {
      "needs_background": "light"
     },
     "output_type": "display_data"
    }
   ],
   "source": [
    "import matplotlib.pyplot as plt\n",
    "\n",
    "W_prime10 = np.zeros(N)\n",
    "u = lambda x: np.log(x)\n",
    "beta = 0.9\n",
    "V_vec = u(W_vec)\n",
    "print(V_vec)\n",
    "plt.title('Wealth-Value(utility)')\n",
    "plt.xlabel('W')\n",
    "plt.ylabel('V')\n",
    "plt.plot(W_vec, V_vec)"
   ]
  },
  {
   "cell_type": "markdown",
   "metadata": {},
   "source": [
    "## Exercise 11"
   ]
  },
  {
   "cell_type": "code",
   "execution_count": 4,
   "metadata": {},
   "outputs": [
    {
     "name": "stdout",
     "output_type": "stream",
     "text": [
      "In this way, delta_T is 178.92611065972804\n"
     ]
    }
   ],
   "source": [
    "def valuediff(vt, vt1):\n",
    "    vd = vt - vt1\n",
    "    return vd.dot(vd)\n",
    "\n",
    "V_vec11 = np.zeros(N)\n",
    "delta11 = valuediff(V_vec, V_vec11)\n",
    "print('In this way, delta_T is {}'.format(delta11))"
   ]
  },
  {
   "cell_type": "markdown",
   "metadata": {},
   "source": [
    "## Exercise 12"
   ]
  },
  {
   "cell_type": "code",
   "execution_count": 5,
   "metadata": {},
   "outputs": [
    {
     "name": "stdout",
     "output_type": "stream",
     "text": [
      "W_prime is\n",
      "[0.01 0.01 0.01 0.02 0.02 0.03 0.03 0.04 0.04 0.05 0.05 0.06 0.06 0.07\n",
      " 0.07 0.08 0.08 0.09 0.09 0.09 0.1  0.1  0.11 0.11 0.12 0.12 0.13 0.13\n",
      " 0.14 0.14 0.15 0.15 0.16 0.16 0.17 0.17 0.18 0.18 0.18 0.19 0.19 0.2\n",
      " 0.2  0.21 0.21 0.22 0.22 0.23 0.23 0.24 0.24 0.25 0.25 0.26 0.26 0.27\n",
      " 0.27 0.27 0.28 0.28 0.29 0.29 0.3  0.3  0.31 0.31 0.32 0.32 0.33 0.33\n",
      " 0.34 0.34 0.35 0.35 0.36 0.36 0.36 0.37 0.37 0.38 0.38 0.39 0.39 0.4\n",
      " 0.4  0.41 0.41 0.42 0.42 0.43 0.43 0.44 0.44 0.45 0.45 0.45 0.46 0.46\n",
      " 0.47 0.47]\n",
      "V_T-1 is\n",
      "[-9.00000002e+09 -8.74982335e+00 -8.05667617e+00 -7.43284371e+00\n",
      " -7.02737860e+00 -6.66246000e+00 -6.37477793e+00 -6.11586407e+00\n",
      " -5.89272052e+00 -5.69189132e+00 -5.50956976e+00 -5.34548036e+00\n",
      " -5.19132968e+00 -5.05259407e+00 -4.91906268e+00 -4.79888442e+00\n",
      " -4.68110139e+00 -4.57509666e+00 -4.46973614e+00 -4.37442596e+00\n",
      " -4.27960150e+00 -4.19259012e+00 -4.10681096e+00 -4.02676825e+00\n",
      " -3.94845801e+00 -3.87435004e+00 -3.80231160e+00 -3.73331873e+00\n",
      " -3.66662156e+00 -3.60208303e+00 -3.53998945e+00 -3.47936483e+00\n",
      " -3.42128016e+00 -3.36412175e+00 -3.30955959e+00 -3.25549236e+00\n",
      " -3.20404979e+00 -3.15275650e+00 -3.10396633e+00 -3.05530583e+00\n",
      " -3.00878582e+00 -2.96262185e+00 -2.91817009e+00 -2.87425894e+00\n",
      " -2.83169933e+00 -2.78983132e+00 -2.74900932e+00 -2.70900273e+00\n",
      " -2.66978202e+00 -2.63147837e+00 -2.59373804e+00 -2.55699824e+00\n",
      " -2.52063060e+00 -2.48533196e+00 -2.45024064e+00 -2.41627434e+00\n",
      " -2.38237279e+00 -2.34958297e+00 -2.31685209e+00 -2.28510339e+00\n",
      " -2.25352120e+00 -2.22274954e+00 -2.19223815e+00 -2.16238519e+00\n",
      " -2.13287434e+00 -2.10388681e+00 -2.07531298e+00 -2.04714210e+00\n",
      " -2.01944761e+00 -1.99204864e+00 -1.96518097e+00 -1.93851272e+00\n",
      " -1.91242394e+00 -1.88644845e+00 -1.86109466e+00 -1.83577685e+00\n",
      " -1.81108424e+00 -1.78642517e+00 -1.76232761e+00 -1.73832619e+00\n",
      " -1.71479569e+00 -1.69141776e+00 -1.66842824e+00 -1.64564221e+00\n",
      " -1.62316935e+00 -1.60094600e+00 -1.57896710e+00 -1.55727930e+00\n",
      " -1.53577310e+00 -1.51459565e+00 -1.49354224e+00 -1.47285167e+00\n",
      " -1.45223238e+00 -1.43200681e+00 -1.41180411e+00 -1.39200148e+00\n",
      " -1.37222046e+00 -1.35280238e+00 -1.33344679e+00 -1.31439860e+00]\n",
      "In this way, delta_T-1 is 8.100000033157226e+19\n",
      "In this way, delta_T is 178.92611065972804\n",
      "In this way, the difference between delta in period T-1 and T is 8.100000033157226e+19\n"
     ]
    }
   ],
   "source": [
    "#suppose W_vec is a array of 1XN, then W_vec.reshape((N,1)) is the transposed matrix, which is NX1. \n",
    "\n",
    "w_diff = np.tile(W_vec.reshape((N,1)), (1,N)) - np.tile(W_vec.reshape((1,N)), (N,1))\n",
    "w_diff_pos = w_diff > 0\n",
    "w_diff[~w_diff_pos] = 1e-10\n",
    "u_1 = u(w_diff)\n",
    "\n",
    "V_m = np.tile(V_vec.reshape((1,N)), (N,1))\n",
    "V_m[~w_diff_pos] = -1e+10\n",
    "\n",
    "V_vec12 = (u_1 + beta * V_m).max(axis = 1)\n",
    "W_prime12 = 0.01 * ((u_1 + beta * V_m).argmax(axis = 1) + 1)\n",
    "\n",
    "print('W_prime is')\n",
    "print(W_prime12)\n",
    "\n",
    "print('V_T-1 is')\n",
    "print(V_vec12)\n",
    "\n",
    "delta12 = valuediff(V_vec12, V_vec)\n",
    "print('In this way, delta_T-1 is {}'.format(delta12))\n",
    "print('In this way, delta_T is {}'.format(delta11))\n",
    "print('In this way, the difference between delta in period T-1 and T is {}'.format(delta12 - delta11))"
   ]
  },
  {
   "cell_type": "markdown",
   "metadata": {},
   "source": [
    "## Exercise 13"
   ]
  },
  {
   "cell_type": "code",
   "execution_count": 6,
   "metadata": {},
   "outputs": [
    {
     "name": "stdout",
     "output_type": "stream",
     "text": [
      "W_prime is\n",
      "[0.01 0.01 0.02 0.02 0.03 0.04 0.04 0.05 0.06 0.06 0.07 0.08 0.08 0.09\n",
      " 0.09 0.1  0.11 0.11 0.12 0.13 0.13 0.14 0.15 0.15 0.16 0.17 0.17 0.18\n",
      " 0.18 0.19 0.19 0.2  0.21 0.21 0.22 0.23 0.23 0.24 0.25 0.25 0.26 0.27\n",
      " 0.27 0.28 0.28 0.29 0.3  0.3  0.31 0.32 0.32 0.33 0.34 0.34 0.35 0.35\n",
      " 0.36 0.36 0.37 0.38 0.38 0.39 0.4  0.4  0.41 0.42 0.42 0.43 0.44 0.44\n",
      " 0.45 0.45 0.46 0.47 0.47 0.48 0.49 0.49 0.5  0.51 0.51 0.52 0.52 0.53\n",
      " 0.54 0.54 0.55 0.55 0.56 0.57 0.57 0.58 0.59 0.59 0.6  0.61 0.61 0.62\n",
      " 0.63 0.63]\n",
      "V_T-2 is\n",
      "[-9.00000002e+09 -8.10000003e+09 -1.24800112e+01 -1.17868640e+01\n",
      " -1.11630316e+01 -1.06015823e+01 -1.01961172e+01 -9.83119864e+00\n",
      " -9.50277190e+00 -9.21508983e+00 -8.95617596e+00 -8.72315349e+00\n",
      " -8.50000993e+00 -8.29918074e+00 -8.11685918e+00 -7.93611290e+00\n",
      " -7.77202350e+00 -7.61787282e+00 -7.47019236e+00 -7.33145675e+00\n",
      " -7.19792536e+00 -7.07306331e+00 -6.95288505e+00 -6.83510202e+00\n",
      " -6.72694159e+00 -6.62093686e+00 -6.51557634e+00 -6.42017208e+00\n",
      " -6.32486190e+00 -6.23003744e+00 -6.14302606e+00 -6.05724690e+00\n",
      " -5.97190488e+00 -5.89186218e+00 -5.81355194e+00 -5.73635069e+00\n",
      " -5.66224272e+00 -5.59020428e+00 -5.51972507e+00 -5.45073219e+00\n",
      " -5.38403502e+00 -5.31920043e+00 -5.25466191e+00 -5.19256832e+00\n",
      " -5.13194370e+00 -5.07191624e+00 -5.01383157e+00 -4.95667316e+00\n",
      " -4.90078893e+00 -4.84622677e+00 -4.79215955e+00 -4.73988335e+00\n",
      " -4.68844078e+00 -4.63714748e+00 -4.58804154e+00 -4.53925138e+00\n",
      " -4.49059088e+00 -4.44407086e+00 -4.39777255e+00 -4.35160858e+00\n",
      " -4.30715682e+00 -4.26324567e+00 -4.21945122e+00 -4.17689161e+00\n",
      " -4.13502359e+00 -4.09347602e+00 -4.05265403e+00 -4.01264744e+00\n",
      " -3.97312741e+00 -3.93390670e+00 -3.89560304e+00 -3.85786272e+00\n",
      " -3.82018150e+00 -3.78344171e+00 -3.74707406e+00 -3.71106814e+00\n",
      " -3.67576949e+00 -3.64067817e+00 -3.60620489e+00 -3.57223859e+00\n",
      " -3.53833704e+00 -3.50527122e+00 -3.47248140e+00 -3.43975052e+00\n",
      " -3.40798174e+00 -3.37623305e+00 -3.34465086e+00 -3.31387920e+00\n",
      " -3.28330953e+00 -3.25279814e+00 -3.22294517e+00 -3.19343433e+00\n",
      " -3.16397654e+00 -3.13498901e+00 -3.10641518e+00 -3.07799121e+00\n",
      " -3.04982033e+00 -3.02212584e+00 -2.99466558e+00 -2.96726661e+00]\n",
      "In this way, delta_T-2 is 6.561000026857352e+19\n",
      "In this way, delta_T-1 is 8.100000033157226e+19\n",
      "In this way, delta_T is 178.92611065972804\n",
      "In this way, the difference between delta in period T-2 and T-1 is -1.539000006299874e+19\n",
      "In this way, the difference between delta in period T-1 and T is 8.100000033157226e+19\n",
      "In this way, the difference between delta in period T-2 and T is 6.561000026857352e+19\n"
     ]
    }
   ],
   "source": [
    "V_m13 = np.tile(V_vec12.reshape((1,N)), (N,1))\n",
    "V_m13[~w_diff_pos] = -1e+10\n",
    "\n",
    "V_vec13 = (u_1 + beta * V_m13).max(axis = 1)\n",
    "W_prime13 = 0.01 * ((u_1 + beta * V_m13).argmax(axis = 1) + 1)\n",
    "\n",
    "print('W_prime is')\n",
    "print(W_prime13)\n",
    "\n",
    "print('V_T-2 is')\n",
    "print(V_vec13)\n",
    "\n",
    "delta13 = valuediff(V_vec13, V_vec12)\n",
    "print('In this way, delta_T-2 is {}'.format(delta13))\n",
    "print('In this way, delta_T-1 is {}'.format(delta12))\n",
    "print('In this way, delta_T is {}'.format(delta11))\n",
    "print('In this way, the difference between delta in period T-2 and T-1 is {}'.format(delta13 - delta12))\n",
    "print('In this way, the difference between delta in period T-1 and T is {}'.format(delta12 - delta11))\n",
    "print('In this way, the difference between delta in period T-2 and T is {}'.format(delta13 - delta11))"
   ]
  },
  {
   "cell_type": "markdown",
   "metadata": {},
   "source": [
    "## Exercise 14"
   ]
  },
  {
   "cell_type": "code",
   "execution_count": 7,
   "metadata": {},
   "outputs": [
    {
     "name": "stdout",
     "output_type": "stream",
     "text": [
      "The distance is 8.100000033157226e+19 in the iteration 1\n",
      "The distance is 6.561000026857352e+19 in the iteration 2\n",
      "The distance is 5.314410021754456e+19 in the iteration 3\n",
      "The distance is 4.3046721176211096e+19 in the iteration 4\n",
      "The distance is 3.4867844152730997e+19 in the iteration 5\n",
      "The distance is 2.8242953763712106e+19 in the iteration 6\n",
      "The distance is 2.287679254860681e+19 in the iteration 7\n",
      "The distance is 1.8530201964371513e+19 in the iteration 8\n",
      "The distance is 1.5009463591140925e+19 in the iteration 9\n",
      "The distance is 1.215766550882415e+19 in the iteration 10\n",
      "The distance is 9.847709062147564e+18 in the iteration 11\n",
      "The distance is 7.976644340339527e+18 in the iteration 12\n",
      "The distance is 6.461081915675017e+18 in the iteration 13\n",
      "The distance is 5.233476351696765e+18 in the iteration 14\n",
      "The distance is 4.2391158448743803e+18 in the iteration 15\n",
      "The distance is 3.4336838343482486e+18 in the iteration 16\n",
      "The distance is 2.7812839058220815e+18 in the iteration 17\n",
      "The distance is 2.2528399637158866e+18 in the iteration 18\n",
      "The distance is 1.8248003706098683e+18 in the iteration 19\n",
      "The distance is 1.4780883001939937e+18 in the iteration 20\n",
      "The distance is 1.1972515231571354e+18 in the iteration 21\n",
      "The distance is 9.697737337572795e+17 in the iteration 22\n",
      "The distance is 7.855167243433965e+17 in the iteration 23\n",
      "The distance is 6.362685467181509e+17 in the iteration 24\n",
      "The distance is 5.153775228417022e+17 in the iteration 25\n",
      "The distance is 4.174557935017788e+17 in the iteration 26\n",
      "The distance is 3.381391927364407e+17 in the iteration 27\n",
      "The distance is 2.73892746116517e+17 in the iteration 28\n",
      "The distance is 2.2185312435437878e+17 in the iteration 29\n",
      "The distance is 1.7970103072704688e+17 in the iteration 30\n",
      "The distance is 1.4555783488890797e+17 in the iteration 31\n",
      "The distance is 1.1790184626001542e+17 in the iteration 32\n",
      "The distance is 9.550049547061251e+16 in the iteration 33\n",
      "The distance is 7.735540133119613e+16 in the iteration 34\n",
      "The distance is 6.265787507826888e+16 in the iteration 35\n",
      "The distance is 5.0752878813397784e+16 in the iteration 36\n",
      "The distance is 4.110983183885221e+16 in the iteration 37\n",
      "The distance is 3.3298963789470296e+16 in the iteration 38\n",
      "The distance is 2.6972160669470948e+16 in the iteration 39\n",
      "The distance is 2.184745014227147e+16 in the iteration 40\n",
      "The distance is 1.7696434615239894e+16 in the iteration 41\n",
      "The distance is 1.4334112038344312e+16 in the iteration 42\n",
      "The distance is 1.16106307510589e+16 in the iteration 43\n",
      "The distance is 9404610908357712.0 in the iteration 44\n",
      "The distance is 7617734835769747.0 in the iteration 45\n",
      "The distance is 6170365216973497.0 in the iteration 46\n",
      "The distance is 4997995825748533.0 in the iteration 47\n",
      "The distance is 4048376618856313.0 in the iteration 48\n",
      "The distance is 3279185061273614.5 in the iteration 49\n",
      "The distance is 2656139899631628.0 in the iteration 50\n",
      "The distance is 2151473318701619.2 in the iteration 51\n",
      "The distance is 1742693388148312.2 in the iteration 52\n",
      "The distance is 1411581644400133.0 in the iteration 53\n",
      "The distance is 1143381131964108.2 in the iteration 54\n",
      "The distance is 926138716890928.9 in the iteration 55\n",
      "The distance is 750172360681653.0 in the iteration 56\n",
      "The distance is 607639612152139.9 in the iteration 57\n",
      "The distance is 492188085843234.06 in the iteration 58\n",
      "The distance is 398672349533020.3 in the iteration 59\n",
      "The distance is 322924603121747.2 in the iteration 60\n",
      "The distance is 261568928528616.0 in the iteration 61\n",
      "The distance is 211870832108179.72 in the iteration 62\n",
      "The distance is 171615374007626.3 in the iteration 63\n",
      "The distance is 139008452946177.98 in the iteration 64\n",
      "The distance is 112596846886404.89 in the iteration 65\n",
      "The distance is 91203445977988.64 in the iteration 66\n",
      "The distance is 73874791242171.48 in the iteration 67\n",
      "The distance is 59838580906159.56 in the iteration 68\n",
      "The distance is 48469250533989.89 in the iteration 69\n",
      "The distance is 39260092932532.45 in the iteration 70\n",
      "The distance is 31800675275351.93 in the iteration 71\n",
      "The distance is 25758546973035.7 in the iteration 72\n",
      "The distance is 20864423048159.535 in the iteration 73\n",
      "The distance is 16900182669009.834 in the iteration 74\n",
      "The distance is 13689147961898.574 in the iteration 75\n",
      "The distance is 11088209849138.441 in the iteration 76\n",
      "The distance is 8981449977802.725 in the iteration 77\n",
      "The distance is 7274974482020.779 in the iteration 78\n",
      "The distance is 5892729330437.3955 in the iteration 79\n",
      "The distance is 4773110757654.841 in the iteration 80\n",
      "The distance is 3866219713700.9585 in the iteration 81\n",
      "The distance is 3131637968098.299 in the iteration 82\n",
      "The distance is 2536626754160.1333 in the iteration 83\n",
      "The distance is 2054667670870.199 in the iteration 84\n",
      "The distance is 1664280813405.3357 in the iteration 85\n",
      "The distance is 1348067458858.7812 in the iteration 86\n",
      "The distance is 1091934641676.0487 in the iteration 87\n",
      "The distance is 884467059758.0142 in the iteration 88\n",
      "The distance is 716418318404.3884 in the iteration 89\n",
      "The distance is 580298837907.9153 in the iteration 90\n",
      "The distance is 470042058705.74963 in the iteration 91\n",
      "The distance is 380734067551.9511 in the iteration 92\n",
      "The distance is 308394594717.3465 in the iteration 93\n",
      "The distance is 249799621721.2623 in the iteration 94\n",
      "The distance is 202337693594.3997 in the iteration 95\n",
      "The distance is 163893531811.56976 in the iteration 96\n",
      "The distance is 132753760767.38971 in the iteration 97\n",
      "The distance is 107530546221.49548 in the iteration 98\n",
      "The distance is 87099742439.18723 in the iteration 99\n",
      "The distance is 70550791375.35237 in the iteration 100\n",
      "The distance is 0.0 in the iteration 101\n"
     ]
    }
   ],
   "source": [
    "delta = 10\n",
    "s = 0\n",
    "V_now= u(W_vec)\n",
    "while delta > 1e-9 and s < 1000:\n",
    "    s = s + 1\n",
    "    V_prime = np.tile(V_now.reshape((1,N)), (N,1))\n",
    "    V_prime[~w_diff_pos] = -1e+10\n",
    "    V_new = (u_1 + beta * V_prime).max(axis = 1)\n",
    "    W_prime14 = 0.01*((u_1 + beta * V_prime).argmax(axis = 1)+1)\n",
    "    delta = valuediff(V_new, V_now)\n",
    "    print('The distance is {} in the iteration {}'.format(delta, s))\n",
    "    V_now = V_new"
   ]
  },
  {
   "cell_type": "markdown",
   "metadata": {},
   "source": [
    "## Exercise 15"
   ]
  },
  {
   "cell_type": "code",
   "execution_count": 8,
   "metadata": {},
   "outputs": [
    {
     "data": {
      "image/png": "[encoded data removed]",
      "text/plain": [
       "<Figure size 432x288 with 1 Axes>"
      ]
     },
     "metadata": {
      "needs_background": "light"
     },
     "output_type": "display_data"
    }
   ],
   "source": [
    "import matplotlib.pyplot as plt\n",
    "\n",
    "plt.title('Wealth tomorrow and today distribution')\n",
    "plt.xlabel('Wealth today')\n",
    "plt.ylabel('Wealth tomorrow')\n",
    "plt.plot(W_vec, W_prime14)\n",
    "plt.show()"
   ]
  },
  {
   "cell_type": "markdown",
   "metadata": {},
   "source": [
    "## Exercise 16"
   ]
  },
  {
   "cell_type": "code",
   "execution_count": 9,
   "metadata": {},
   "outputs": [
    {
     "name": "stdout",
     "output_type": "stream",
     "text": [
      "The epsilon array is: \n",
      " [0.5 1.  1.5 2.  2.5 3.  3.5] \n",
      " \n",
      "The corresponding probability is: \n",
      " [0.0088637  0.10798193 0.48394145 0.79788456 0.48394145 0.10798193\n",
      " 0.0088637 ]\n"
     ]
    }
   ],
   "source": [
    "from scipy.stats import norm\n",
    "\n",
    "sigma = 0.5\n",
    "M = 7\n",
    "mu = 4 * sigma\n",
    "epsilon_min = mu - 3 * sigma\n",
    "epsilon_max = mu + 3 * sigma\n",
    "epsilon = np.linspace(epsilon_min, epsilon_max, M)\n",
    "pdf_norm = lambda x: norm(loc = mu, scale = sigma).pdf(x)\n",
    "pdf_epsilon = pdf_norm(epsilon)\n",
    "print('The epsilon array is: \\n {} \\n \\nThe corresponding probability is: \\n {}'.format(epsilon, pdf_epsilon))"
   ]
  },
  {
   "cell_type": "markdown",
   "metadata": {},
   "source": [
    "## Exercise 17"
   ]
  },
  {
   "cell_type": "code",
   "execution_count": 10,
   "metadata": {},
   "outputs": [
    {
     "name": "stdout",
     "output_type": "stream",
     "text": [
      "[[0.01 0.01 0.01 0.01 0.01 0.01 0.01]\n",
      " [0.01 0.01 0.01 0.01 0.01 0.01 0.01]\n",
      " [0.01 0.01 0.01 0.01 0.01 0.01 0.01]\n",
      " [0.01 0.01 0.01 0.01 0.01 0.01 0.01]\n",
      " [0.01 0.01 0.01 0.01 0.01 0.01 0.01]\n",
      " [0.01 0.01 0.01 0.01 0.01 0.01 0.01]\n",
      " [0.01 0.01 0.01 0.01 0.01 0.01 0.01]\n",
      " [0.01 0.01 0.01 0.01 0.01 0.01 0.01]\n",
      " [0.01 0.01 0.01 0.01 0.01 0.01 0.01]\n",
      " [0.01 0.01 0.01 0.01 0.01 0.01 0.01]\n",
      " [0.01 0.01 0.01 0.01 0.01 0.01 0.01]\n",
      " [0.01 0.01 0.01 0.01 0.01 0.01 0.01]\n",
      " [0.01 0.01 0.01 0.01 0.01 0.01 0.01]\n",
      " [0.01 0.01 0.01 0.01 0.01 0.01 0.01]\n",
      " [0.01 0.01 0.01 0.01 0.01 0.01 0.01]\n",
      " [0.01 0.01 0.01 0.01 0.01 0.01 0.01]\n",
      " [0.01 0.01 0.01 0.01 0.01 0.01 0.01]\n",
      " [0.01 0.01 0.01 0.01 0.01 0.01 0.01]\n",
      " [0.01 0.01 0.01 0.01 0.01 0.01 0.01]\n",
      " [0.01 0.01 0.01 0.01 0.01 0.01 0.01]\n",
      " [0.01 0.01 0.01 0.01 0.01 0.01 0.01]\n",
      " [0.01 0.01 0.01 0.01 0.01 0.01 0.01]\n",
      " [0.01 0.01 0.01 0.01 0.01 0.01 0.01]\n",
      " [0.01 0.01 0.01 0.01 0.01 0.01 0.01]\n",
      " [0.01 0.01 0.01 0.01 0.01 0.01 0.01]\n",
      " [0.01 0.01 0.01 0.01 0.01 0.01 0.01]\n",
      " [0.01 0.01 0.01 0.01 0.01 0.01 0.01]\n",
      " [0.01 0.01 0.01 0.01 0.01 0.01 0.01]\n",
      " [0.01 0.01 0.01 0.01 0.01 0.01 0.01]\n",
      " [0.01 0.01 0.01 0.01 0.01 0.01 0.01]\n",
      " [0.01 0.01 0.01 0.01 0.01 0.01 0.01]\n",
      " [0.01 0.01 0.01 0.01 0.01 0.01 0.01]\n",
      " [0.01 0.01 0.01 0.01 0.01 0.01 0.01]\n",
      " [0.01 0.01 0.01 0.01 0.01 0.01 0.01]\n",
      " [0.01 0.01 0.01 0.01 0.01 0.01 0.01]\n",
      " [0.01 0.01 0.01 0.01 0.01 0.01 0.01]\n",
      " [0.01 0.01 0.01 0.01 0.01 0.01 0.01]\n",
      " [0.01 0.01 0.01 0.01 0.01 0.01 0.01]\n",
      " [0.01 0.01 0.01 0.01 0.01 0.01 0.01]\n",
      " [0.01 0.01 0.01 0.01 0.01 0.01 0.01]\n",
      " [0.01 0.01 0.01 0.01 0.01 0.01 0.01]\n",
      " [0.01 0.01 0.01 0.01 0.01 0.01 0.01]\n",
      " [0.01 0.01 0.01 0.01 0.01 0.01 0.01]\n",
      " [0.01 0.01 0.01 0.01 0.01 0.01 0.01]\n",
      " [0.01 0.01 0.01 0.01 0.01 0.01 0.01]\n",
      " [0.01 0.01 0.01 0.01 0.01 0.01 0.01]\n",
      " [0.01 0.01 0.01 0.01 0.01 0.01 0.01]\n",
      " [0.01 0.01 0.01 0.01 0.01 0.01 0.01]\n",
      " [0.01 0.01 0.01 0.01 0.01 0.01 0.01]\n",
      " [0.01 0.01 0.01 0.01 0.01 0.01 0.01]\n",
      " [0.01 0.01 0.01 0.01 0.01 0.01 0.01]\n",
      " [0.01 0.01 0.01 0.01 0.01 0.01 0.01]\n",
      " [0.01 0.01 0.01 0.01 0.01 0.01 0.01]\n",
      " [0.01 0.01 0.01 0.01 0.01 0.01 0.01]\n",
      " [0.01 0.01 0.01 0.01 0.01 0.01 0.01]\n",
      " [0.01 0.01 0.01 0.01 0.01 0.01 0.01]\n",
      " [0.01 0.01 0.01 0.01 0.01 0.01 0.01]\n",
      " [0.01 0.01 0.01 0.01 0.01 0.01 0.01]\n",
      " [0.01 0.01 0.01 0.01 0.01 0.01 0.01]\n",
      " [0.01 0.01 0.01 0.01 0.01 0.01 0.01]\n",
      " [0.01 0.01 0.01 0.01 0.01 0.01 0.01]\n",
      " [0.01 0.01 0.01 0.01 0.01 0.01 0.01]\n",
      " [0.01 0.01 0.01 0.01 0.01 0.01 0.01]\n",
      " [0.01 0.01 0.01 0.01 0.01 0.01 0.01]\n",
      " [0.01 0.01 0.01 0.01 0.01 0.01 0.01]\n",
      " [0.01 0.01 0.01 0.01 0.01 0.01 0.01]\n",
      " [0.01 0.01 0.01 0.01 0.01 0.01 0.01]\n",
      " [0.01 0.01 0.01 0.01 0.01 0.01 0.01]\n",
      " [0.01 0.01 0.01 0.01 0.01 0.01 0.01]\n",
      " [0.01 0.01 0.01 0.01 0.01 0.01 0.01]\n",
      " [0.01 0.01 0.01 0.01 0.01 0.01 0.01]\n",
      " [0.01 0.01 0.01 0.01 0.01 0.01 0.01]\n",
      " [0.01 0.01 0.01 0.01 0.01 0.01 0.01]\n",
      " [0.01 0.01 0.01 0.01 0.01 0.01 0.01]\n",
      " [0.01 0.01 0.01 0.01 0.01 0.01 0.01]\n",
      " [0.01 0.01 0.01 0.01 0.01 0.01 0.01]\n",
      " [0.01 0.01 0.01 0.01 0.01 0.01 0.01]\n",
      " [0.01 0.01 0.01 0.01 0.01 0.01 0.01]\n",
      " [0.01 0.01 0.01 0.01 0.01 0.01 0.01]\n",
      " [0.01 0.01 0.01 0.01 0.01 0.01 0.01]\n",
      " [0.01 0.01 0.01 0.01 0.01 0.01 0.01]\n",
      " [0.01 0.01 0.01 0.01 0.01 0.01 0.01]\n",
      " [0.01 0.01 0.01 0.01 0.01 0.01 0.01]\n",
      " [0.01 0.01 0.01 0.01 0.01 0.01 0.01]\n",
      " [0.01 0.01 0.01 0.01 0.01 0.01 0.01]\n",
      " [0.01 0.01 0.01 0.01 0.01 0.01 0.01]\n",
      " [0.01 0.01 0.01 0.01 0.01 0.01 0.01]\n",
      " [0.01 0.01 0.01 0.01 0.01 0.01 0.01]\n",
      " [0.01 0.01 0.01 0.01 0.01 0.01 0.01]\n",
      " [0.01 0.01 0.01 0.01 0.01 0.01 0.01]\n",
      " [0.01 0.01 0.01 0.01 0.01 0.01 0.01]\n",
      " [0.01 0.01 0.01 0.01 0.01 0.01 0.01]\n",
      " [0.01 0.01 0.01 0.01 0.01 0.01 0.01]\n",
      " [0.01 0.01 0.01 0.01 0.01 0.01 0.01]\n",
      " [0.01 0.01 0.01 0.01 0.01 0.01 0.01]\n",
      " [0.01 0.01 0.01 0.01 0.01 0.01 0.01]\n",
      " [0.01 0.01 0.01 0.01 0.01 0.01 0.01]\n",
      " [0.01 0.01 0.01 0.01 0.01 0.01 0.01]\n",
      " [0.01 0.01 0.01 0.01 0.01 0.01 0.01]\n",
      " [0.01 0.01 0.01 0.01 0.01 0.01 0.01]]\n",
      "[[-9.00000001e+09 -9.00000002e+09 -9.00000003e+09 -9.00000005e+09\n",
      "  -9.00000006e+09 -9.00000007e+09 -9.00000008e+09]\n",
      " [-2.30258509e+00 -4.60517019e+00 -6.90775528e+00 -9.21034037e+00\n",
      "  -1.15129255e+01 -1.38155106e+01 -1.61180957e+01]\n",
      " [-1.95601150e+00 -3.91202301e+00 -5.86803451e+00 -7.82404601e+00\n",
      "  -9.78005751e+00 -1.17360690e+01 -1.36920805e+01]\n",
      " [-1.75327895e+00 -3.50655790e+00 -5.25983685e+00 -7.01311579e+00\n",
      "  -8.76639474e+00 -1.05196737e+01 -1.22729526e+01]\n",
      " [-1.60943791e+00 -3.21887582e+00 -4.82831374e+00 -6.43775165e+00\n",
      "  -8.04718956e+00 -9.65662747e+00 -1.12660654e+01]\n",
      " [-1.49786614e+00 -2.99573227e+00 -4.49359841e+00 -5.99146455e+00\n",
      "  -7.48933068e+00 -8.98719682e+00 -1.04850630e+01]\n",
      " [-1.40670536e+00 -2.81341072e+00 -4.22011608e+00 -5.62682143e+00\n",
      "  -7.03352679e+00 -8.44023215e+00 -9.84693751e+00]\n",
      " [-1.32963002e+00 -2.65926004e+00 -3.98889006e+00 -5.31852007e+00\n",
      "  -6.64815009e+00 -7.97778011e+00 -9.30741013e+00]\n",
      " [-1.26286432e+00 -2.52572864e+00 -3.78859297e+00 -5.05145729e+00\n",
      "  -6.31432161e+00 -7.57718593e+00 -8.84005026e+00]\n",
      " [-1.20397280e+00 -2.40794561e+00 -3.61191841e+00 -4.81589122e+00\n",
      "  -6.01986402e+00 -7.22383683e+00 -8.42780963e+00]\n",
      " [-1.15129255e+00 -2.30258509e+00 -3.45387764e+00 -4.60517019e+00\n",
      "  -5.75646273e+00 -6.90775528e+00 -8.05904783e+00]\n",
      " [-1.10363746e+00 -2.20727491e+00 -3.31091237e+00 -4.41454983e+00\n",
      "  -5.51818728e+00 -6.62182474e+00 -7.72546220e+00]\n",
      " [-1.06013177e+00 -2.12026354e+00 -3.18039530e+00 -4.24052707e+00\n",
      "  -5.30065884e+00 -6.36079061e+00 -7.42092238e+00]\n",
      " [-1.02011041e+00 -2.04022083e+00 -3.06033124e+00 -4.08044166e+00\n",
      "  -5.10055207e+00 -6.12066249e+00 -7.14077290e+00]\n",
      " [-9.83056428e-01 -1.96611286e+00 -2.94916928e+00 -3.93222571e+00\n",
      "  -4.91528214e+00 -5.89833857e+00 -6.88139500e+00]\n",
      " [-9.48559992e-01 -1.89711998e+00 -2.84567998e+00 -3.79423997e+00\n",
      "  -4.74279996e+00 -5.69135995e+00 -6.63991995e+00]\n",
      " [-9.16290732e-01 -1.83258146e+00 -2.74887220e+00 -3.66516293e+00\n",
      "  -4.58145366e+00 -5.49774439e+00 -6.41403512e+00]\n",
      " [-8.85978421e-01 -1.77195684e+00 -2.65793526e+00 -3.54391368e+00\n",
      "  -4.42989210e+00 -5.31587053e+00 -6.20184895e+00]\n",
      " [-8.57399214e-01 -1.71479843e+00 -2.57219764e+00 -3.42959686e+00\n",
      "  -4.28699607e+00 -5.14439528e+00 -6.00179450e+00]\n",
      " [-8.30365603e-01 -1.66073121e+00 -2.49109681e+00 -3.32146241e+00\n",
      "  -4.15182802e+00 -4.98219362e+00 -5.81255922e+00]\n",
      " [-8.04718956e-01 -1.60943791e+00 -2.41415687e+00 -3.21887582e+00\n",
      "  -4.02359478e+00 -4.82831374e+00 -5.63303269e+00]\n",
      " [-7.80323874e-01 -1.56064775e+00 -2.34097162e+00 -3.12129550e+00\n",
      "  -3.90161937e+00 -4.68194324e+00 -5.46226712e+00]\n",
      " [-7.57063866e-01 -1.51412773e+00 -2.27119160e+00 -3.02825547e+00\n",
      "  -3.78531933e+00 -4.54238320e+00 -5.29944706e+00]\n",
      " [-7.34837985e-01 -1.46967597e+00 -2.20451396e+00 -2.93935194e+00\n",
      "  -3.67418993e+00 -4.40902791e+00 -5.14386590e+00]\n",
      " [-7.13558178e-01 -1.42711636e+00 -2.14067453e+00 -2.85423271e+00\n",
      "  -3.56779089e+00 -4.28134907e+00 -4.99490724e+00]\n",
      " [-6.93147181e-01 -1.38629436e+00 -2.07944154e+00 -2.77258872e+00\n",
      "  -3.46573590e+00 -4.15888308e+00 -4.85203026e+00]\n",
      " [-6.73536824e-01 -1.34707365e+00 -2.02061047e+00 -2.69414730e+00\n",
      "  -3.36768412e+00 -4.04122094e+00 -4.71475777e+00]\n",
      " [-6.54666660e-01 -1.30933332e+00 -1.96399998e+00 -2.61866664e+00\n",
      "  -3.27333330e+00 -3.92799996e+00 -4.58266662e+00]\n",
      " [-6.36482838e-01 -1.27296568e+00 -1.90944851e+00 -2.54593135e+00\n",
      "  -3.18241419e+00 -3.81889703e+00 -4.45537987e+00]\n",
      " [-6.18937178e-01 -1.23787436e+00 -1.85681153e+00 -2.47574871e+00\n",
      "  -3.09468589e+00 -3.71362307e+00 -4.33256025e+00]\n",
      " [-6.01986402e-01 -1.20397280e+00 -1.80595921e+00 -2.40794561e+00\n",
      "  -3.00993201e+00 -3.61191841e+00 -4.21390482e+00]\n",
      " [-5.85591491e-01 -1.17118298e+00 -1.75677447e+00 -2.34236596e+00\n",
      "  -2.92795745e+00 -3.51354894e+00 -4.09914044e+00]\n",
      " [-5.69717142e-01 -1.13943428e+00 -1.70915142e+00 -2.27886857e+00\n",
      "  -2.84858571e+00 -3.41830285e+00 -3.98801999e+00]\n",
      " [-5.54331312e-01 -1.10866262e+00 -1.66299394e+00 -2.21732525e+00\n",
      "  -2.77165656e+00 -3.32598787e+00 -3.88031919e+00]\n",
      " [-5.39404831e-01 -1.07880966e+00 -1.61821449e+00 -2.15761932e+00\n",
      "  -2.69702415e+00 -3.23642898e+00 -3.77583381e+00]\n",
      " [-5.24911062e-01 -1.04982212e+00 -1.57473319e+00 -2.09964425e+00\n",
      "  -2.62455531e+00 -3.14946637e+00 -3.67437744e+00]\n",
      " [-5.10825624e-01 -1.02165125e+00 -1.53247687e+00 -2.04330250e+00\n",
      "  -2.55412812e+00 -3.06495374e+00 -3.57577937e+00]\n",
      " [-4.97126137e-01 -9.94252273e-01 -1.49137841e+00 -1.98850455e+00\n",
      "  -2.48563068e+00 -2.98275682e+00 -3.47988296e+00]\n",
      " [-4.83792013e-01 -9.67584026e-01 -1.45137604e+00 -1.93516805e+00\n",
      "  -2.41896007e+00 -2.90275208e+00 -3.38654409e+00]\n",
      " [-4.70804270e-01 -9.41608540e-01 -1.41241281e+00 -1.88321708e+00\n",
      "  -2.35402135e+00 -2.82482562e+00 -3.29562989e+00]\n",
      " [-4.58145366e-01 -9.16290732e-01 -1.37443610e+00 -1.83258146e+00\n",
      "  -2.29072683e+00 -2.74887220e+00 -3.20701756e+00]\n",
      " [-4.45799060e-01 -8.91598119e-01 -1.33739718e+00 -1.78319624e+00\n",
      "  -2.22899530e+00 -2.67479436e+00 -3.12059342e+00]\n",
      " [-4.33750284e-01 -8.67500568e-01 -1.30125085e+00 -1.73500114e+00\n",
      "  -2.16875142e+00 -2.60250170e+00 -3.03625199e+00]\n",
      " [-4.21985035e-01 -8.43970070e-01 -1.26595511e+00 -1.68794014e+00\n",
      "  -2.10992518e+00 -2.53191021e+00 -2.95389525e+00]\n",
      " [-4.10490276e-01 -8.20980552e-01 -1.23147083e+00 -1.64196110e+00\n",
      "  -2.05245138e+00 -2.46294166e+00 -2.87343193e+00]\n",
      " [-3.99253848e-01 -7.98507696e-01 -1.19776154e+00 -1.59701539e+00\n",
      "  -1.99626924e+00 -2.39552309e+00 -2.79477694e+00]\n",
      " [-3.88264395e-01 -7.76528789e-01 -1.16479318e+00 -1.55305758e+00\n",
      "  -1.94132197e+00 -2.32958637e+00 -2.71785076e+00]\n",
      " [-3.77511292e-01 -7.55022584e-01 -1.13253388e+00 -1.51004517e+00\n",
      "  -1.88755646e+00 -2.26506775e+00 -2.64257904e+00]\n",
      " [-3.66984588e-01 -7.33969175e-01 -1.10095376e+00 -1.46793835e+00\n",
      "  -1.83492294e+00 -2.20190753e+00 -2.56889211e+00]\n",
      " [-3.56674944e-01 -7.13349888e-01 -1.07002483e+00 -1.42669978e+00\n",
      "  -1.78337472e+00 -2.14004966e+00 -2.49672461e+00]\n",
      " [-3.46573590e-01 -6.93147181e-01 -1.03972077e+00 -1.38629436e+00\n",
      "  -1.73286795e+00 -2.07944154e+00 -2.42601513e+00]\n",
      " [-3.36672277e-01 -6.73344553e-01 -1.01001683e+00 -1.34668911e+00\n",
      "  -1.68336138e+00 -2.02003366e+00 -2.35670594e+00]\n",
      " [-3.26963234e-01 -6.53926467e-01 -9.80889701e-01 -1.30785293e+00\n",
      "  -1.63481617e+00 -1.96177940e+00 -2.28874264e+00]\n",
      " [-3.17439136e-01 -6.34878272e-01 -9.52317409e-01 -1.26975654e+00\n",
      "  -1.58719568e+00 -1.90463482e+00 -2.22207395e+00]\n",
      " [-3.08093070e-01 -6.16186139e-01 -9.24279209e-01 -1.23237228e+00\n",
      "  -1.54046535e+00 -1.84855842e+00 -2.15665149e+00]\n",
      " [-2.98918500e-01 -5.97837001e-01 -8.96755501e-01 -1.19567400e+00\n",
      "  -1.49459250e+00 -1.79351100e+00 -2.09242950e+00]\n",
      " [-2.89909248e-01 -5.79818495e-01 -8.69727743e-01 -1.15963699e+00\n",
      "  -1.44954624e+00 -1.73945549e+00 -2.02936473e+00]\n",
      " [-2.81059459e-01 -5.62118918e-01 -8.43178377e-01 -1.12423784e+00\n",
      "  -1.40529730e+00 -1.68635675e+00 -1.96741621e+00]\n",
      " [-2.72363588e-01 -5.44727175e-01 -8.17090763e-01 -1.08945435e+00\n",
      "  -1.36181794e+00 -1.63418153e+00 -1.90654511e+00]\n",
      " [-2.63816371e-01 -5.27632742e-01 -7.91449113e-01 -1.05526548e+00\n",
      "  -1.31908186e+00 -1.58289823e+00 -1.84671460e+00]\n",
      " [-2.55412812e-01 -5.10825624e-01 -7.66238436e-01 -1.02165125e+00\n",
      "  -1.27706406e+00 -1.53247687e+00 -1.78788968e+00]\n",
      " [-2.47148161e-01 -4.94296322e-01 -7.41444483e-01 -9.88592644e-01\n",
      "  -1.23574080e+00 -1.48288897e+00 -1.73003713e+00]\n",
      " [-2.39017900e-01 -4.78035801e-01 -7.17053701e-01 -9.56071602e-01\n",
      "  -1.19508950e+00 -1.43410740e+00 -1.67312530e+00]\n",
      " [-2.31017730e-01 -4.62035460e-01 -6.93053189e-01 -9.24070919e-01\n",
      "  -1.15508865e+00 -1.38610638e+00 -1.61712411e+00]\n",
      " [-2.23143551e-01 -4.46287103e-01 -6.69430654e-01 -8.92574205e-01\n",
      "  -1.11571776e+00 -1.33886131e+00 -1.56200486e+00]\n",
      " [-2.15391458e-01 -4.30782916e-01 -6.46174374e-01 -8.61565832e-01\n",
      "  -1.07695729e+00 -1.29234875e+00 -1.50774021e+00]\n",
      " [-2.07757722e-01 -4.15515444e-01 -6.23273166e-01 -8.31030888e-01\n",
      "  -1.03878861e+00 -1.24654633e+00 -1.45430405e+00]\n",
      " [-2.00238783e-01 -4.00477567e-01 -6.00716350e-01 -8.00955133e-01\n",
      "  -1.00119392e+00 -1.20143270e+00 -1.40167148e+00]\n",
      " [-1.92831240e-01 -3.85662481e-01 -5.78493721e-01 -7.71324962e-01\n",
      "  -9.64156202e-01 -1.15698744e+00 -1.34981868e+00]\n",
      " [-1.85531841e-01 -3.71063681e-01 -5.56595522e-01 -7.42127363e-01\n",
      "  -9.27659203e-01 -1.11319104e+00 -1.29872288e+00]\n",
      " [-1.78337472e-01 -3.56674944e-01 -5.35012416e-01 -7.13349888e-01\n",
      "  -8.91687360e-01 -1.07002483e+00 -1.24836230e+00]\n",
      " [-1.71245154e-01 -3.42490309e-01 -5.13735463e-01 -6.84980618e-01\n",
      "  -8.56225772e-01 -1.02747093e+00 -1.19871608e+00]\n",
      " [-1.64252033e-01 -3.28504067e-01 -4.92756100e-01 -6.57008134e-01\n",
      "  -8.21260167e-01 -9.85512201e-01 -1.14976423e+00]\n",
      " [-1.57355372e-01 -3.14710745e-01 -4.72066117e-01 -6.29421490e-01\n",
      "  -7.86776862e-01 -9.44132235e-01 -1.10148761e+00]\n",
      " [-1.50552546e-01 -3.01105093e-01 -4.51657639e-01 -6.02210186e-01\n",
      "  -7.52762732e-01 -9.03315278e-01 -1.05386782e+00]\n",
      " [-1.43841036e-01 -2.87682072e-01 -4.31523109e-01 -5.75364145e-01\n",
      "  -7.19205181e-01 -8.63046217e-01 -1.00688725e+00]\n",
      " [-1.37218423e-01 -2.74436846e-01 -4.11655269e-01 -5.48873691e-01\n",
      "  -6.86092114e-01 -8.23310537e-01 -9.60528960e-01]\n",
      " [-1.30682382e-01 -2.61364764e-01 -3.92047146e-01 -5.22729528e-01\n",
      "  -6.53411910e-01 -7.84094292e-01 -9.14776674e-01]\n",
      " [-1.24230680e-01 -2.48461359e-01 -3.72692039e-01 -4.96922719e-01\n",
      "  -6.21153398e-01 -7.45384078e-01 -8.69614758e-01]\n",
      " [-1.17861167e-01 -2.35722334e-01 -3.53583500e-01 -4.71444667e-01\n",
      "  -5.89305834e-01 -7.07167001e-01 -8.25028167e-01]\n",
      " [-1.11571776e-01 -2.23143551e-01 -3.34715327e-01 -4.46287103e-01\n",
      "  -5.57858878e-01 -6.69430654e-01 -7.81002430e-01]\n",
      " [-1.05360516e-01 -2.10721031e-01 -3.16081547e-01 -4.21442063e-01\n",
      "  -5.26802578e-01 -6.32163094e-01 -7.37523610e-01]\n",
      " [-9.92254694e-02 -1.98450939e-01 -2.97676408e-01 -3.96901877e-01\n",
      "  -4.96127347e-01 -5.95352816e-01 -6.94578286e-01]\n",
      " [-9.31647891e-02 -1.86329578e-01 -2.79494367e-01 -3.72659156e-01\n",
      "  -4.65823945e-01 -5.58988735e-01 -6.52153524e-01]\n",
      " [-8.71766936e-02 -1.74353387e-01 -2.61530081e-01 -3.48706774e-01\n",
      "  -4.35883468e-01 -5.23060161e-01 -6.10236855e-01]\n",
      " [-8.12594647e-02 -1.62518929e-01 -2.43778394e-01 -3.25037859e-01\n",
      "  -4.06297324e-01 -4.87556788e-01 -5.68816253e-01]\n",
      " [-7.54114449e-02 -1.50822890e-01 -2.26234335e-01 -3.01645779e-01\n",
      "  -3.77057224e-01 -4.52468669e-01 -5.27880114e-01]\n",
      " [-6.96310337e-02 -1.39262067e-01 -2.08893101e-01 -2.78524135e-01\n",
      "  -3.48155168e-01 -4.17786202e-01 -4.87417236e-01]\n",
      " [-6.39166858e-02 -1.27833372e-01 -1.91750057e-01 -2.55666743e-01\n",
      "  -3.19583429e-01 -3.83500115e-01 -4.47416800e-01]\n",
      " [-5.82669081e-02 -1.16533816e-01 -1.74800724e-01 -2.33067633e-01\n",
      "  -2.91334541e-01 -3.49601449e-01 -4.07868357e-01]\n",
      " [-5.26802578e-02 -1.05360516e-01 -1.58040773e-01 -2.10721031e-01\n",
      "  -2.63401289e-01 -3.16081547e-01 -3.68761805e-01]\n",
      " [-4.71553397e-02 -9.43106795e-02 -1.41466019e-01 -1.88621359e-01\n",
      "  -2.35776699e-01 -2.82932038e-01 -3.30087378e-01]\n",
      " [-4.16908045e-02 -8.33816089e-02 -1.25072413e-01 -1.66763218e-01\n",
      "  -2.08454022e-01 -2.50144827e-01 -2.91835631e-01]\n",
      " [-3.62853464e-02 -7.25706928e-02 -1.08856039e-01 -1.45141386e-01\n",
      "  -1.81426732e-01 -2.17712079e-01 -2.53997425e-01]\n",
      " [-3.09377019e-02 -6.18754037e-02 -9.28131056e-02 -1.23750807e-01\n",
      "  -1.54688509e-01 -1.85626211e-01 -2.16563913e-01]\n",
      " [-2.56466472e-02 -5.12932944e-02 -7.69399416e-02 -1.02586589e-01\n",
      "  -1.28233236e-01 -1.53879883e-01 -1.79526530e-01]\n",
      " [-2.04109973e-02 -4.08219945e-02 -6.12329918e-02 -8.16439890e-02\n",
      "  -1.02054986e-01 -1.22465984e-01 -1.42876981e-01]\n",
      " [-1.52296037e-02 -3.04592075e-02 -4.56888112e-02 -6.09184150e-02\n",
      "  -7.61480187e-02 -9.13776225e-02 -1.06607226e-01]\n",
      " [-1.01013537e-02 -2.02027073e-02 -3.03040610e-02 -4.04054146e-02\n",
      "  -5.05067683e-02 -6.06081220e-02 -7.07094756e-02]\n",
      " [-5.02516793e-03 -1.00503359e-02 -1.50755038e-02 -2.01006717e-02\n",
      "  -2.51258396e-02 -3.01510076e-02 -3.51761755e-02]]\n"
     ]
    }
   ],
   "source": [
    "V_initial = np.zeros((N, M))\n",
    "W_initial = np.zeros((N, M))\n",
    "\n",
    "u_2 = np.array([u_1 * e for e in epsilon])\n",
    "\n",
    "V_e = V_initial @ pdf_epsilon.reshape((M, 1)) \n",
    "V_vec17 = np.tile(V_e.reshape((1,N)), (N,1))\n",
    "V_vec17[~w_diff_pos] = -1e+10\n",
    "V_cube17 = np.array([V_vec17 for e in range(M)])\n",
    "\n",
    "V_cube_ = u_2 + beta * V_cube17\n",
    "\n",
    "V_new17 = np.zeros((N, M))\n",
    "W_new17 = np.zeros((N, M))\n",
    "for i in range(N):\n",
    "    V_new17[i] = V_cube_[:, i, :].max(axis=1)\n",
    "    W_new17[i] = W_vec[np.argmax(V_cube_[:, i, :], axis=1)]\n",
    "\n",
    "print(W_new17)\n",
    "print(V_new17)"
   ]
  },
  {
   "cell_type": "markdown",
   "metadata": {},
   "source": [
    "## Exercise 18"
   ]
  },
  {
   "cell_type": "code",
   "execution_count": 11,
   "metadata": {
    "scrolled": true
   },
   "outputs": [
    {
     "name": "stdout",
     "output_type": "stream",
     "text": [
      "In this way, delta_T is 5.6700000580251445e+20\n"
     ]
    }
   ],
   "source": [
    "def valuediff2(V1, V2):\n",
    "    d = np.sum((V1-V2) ** 2)\n",
    "    return d\n",
    "\n",
    "delta18 = valuediff2(V_new17, V_initial)\n",
    "print('In this way, delta_T is {}'.format(delta18))"
   ]
  },
  {
   "cell_type": "markdown",
   "metadata": {},
   "source": [
    "# Exercise 19"
   ]
  },
  {
   "cell_type": "code",
   "execution_count": 12,
   "metadata": {},
   "outputs": [
    {
     "name": "stdout",
     "output_type": "stream",
     "text": [
      "5.670000046420116e+20\n"
     ]
    }
   ],
   "source": [
    "V_e = V_new17 @ pdf_epsilon.reshape((M,1)) \n",
    "V_vec19 = np.tile(V_e.reshape((1,N)), (N,1))\n",
    "V_vec19[~w_diff_pos] = -1e+10\n",
    "V_cube19 = np.array([V_vec19 for e in range(M)])\n",
    "V_new19_cube = u_2 + beta * V_cube19\n",
    "V_new19 = np.zeros((N,M))\n",
    "W_new19 = np.zeros((N,M))\n",
    "for i in range(N):\n",
    "    V_new19[i] = V_new19_cube[:, i, :].max(axis=1)\n",
    "    W_new19[i] = W_vec[np.argmax(V_new19_cube[:, i, :], axis=1)]\n",
    "print(valuediff2(V_new19, V_new17))"
   ]
  },
  {
   "cell_type": "markdown",
   "metadata": {},
   "source": [
    "## Exercise 20"
   ]
  },
  {
   "cell_type": "code",
   "execution_count": 13,
   "metadata": {},
   "outputs": [
    {
     "name": "stdout",
     "output_type": "stream",
     "text": [
      "5.670000025536719e+20\n"
     ]
    }
   ],
   "source": [
    "V_e = V_new19 @ pdf_epsilon.reshape((M,1)) \n",
    "V_vec20 = np.tile(V_e.reshape((1,N)), (N,1))\n",
    "V_vec20[~w_diff_pos] = -1e+10\n",
    "V_cube20 = np.array([V_vec20 for e in range(M)])\n",
    "V_new20_cube = u_2 + beta * V_cube20\n",
    "V_new20 = np.zeros((N,M))\n",
    "W_new20 = np.zeros((N,M))\n",
    "for i in range(N):\n",
    "    V_new20[i] = V_new20_cube[:, i, :].max(axis=1)\n",
    "    W_new20[i] = W_vec[np.argmax(V_new20_cube[:, i, :], axis=1)]\n",
    "print(valuediff2(V_new20, V_new19))"
   ]
  },
  {
   "cell_type": "markdown",
   "metadata": {},
   "source": [
    "## Exercise 21"
   ]
  },
  {
   "cell_type": "code",
   "execution_count": 14,
   "metadata": {},
   "outputs": [
    {
     "name": "stdout",
     "output_type": "stream",
     "text": [
      "The distance is 5.6700000580251445e+20 in the iteration 1\n",
      "The distance is 5.670000046420116e+20 in the iteration 2\n",
      "The distance is 5.670000025536719e+20 in the iteration 3\n",
      "The distance is 5.669999987956777e+20 in the iteration 4\n",
      "The distance is 5.6699999203311976e+20 in the iteration 5\n",
      "The distance is 5.669999798638119e+20 in the iteration 6\n",
      "The distance is 5.669999579649917e+20 in the iteration 7\n",
      "The distance is 5.66999918557803e+20 in the iteration 8\n",
      "The distance is 5.669998476441224e+20 in the iteration 9\n",
      "The distance is 5.6699972003424403e+20 in the iteration 10\n",
      "The distance is 5.669994903992754e+20 in the iteration 11\n",
      "The distance is 5.669990771702857e+20 in the iteration 12\n",
      "The distance is 5.669983335661374e+20 in the iteration 13\n",
      "The distance is 5.6699699546260826e+20 in the iteration 14\n",
      "The distance is 5.669945875980391e+20 in the iteration 15\n",
      "The distance is 5.669902548402135e+20 in the iteration 16\n",
      "The distance is 5.669824587133799e+20 in the iteration 17\n",
      "The distance is 5.66968431824643e+20 in the iteration 18\n",
      "The distance is 5.669431978047439e+20 in the iteration 19\n",
      "The distance is 5.6689781318034234e+20 in the iteration 20\n",
      "The distance is 5.668162213240476e+20 in the iteration 21\n",
      "The distance is 5.6666964818912575e+20 in the iteration 22\n",
      "The distance is 5.6640670125286824e+20 in the iteration 23\n",
      "The distance is 5.6593614467674446e+20 in the iteration 24\n",
      "The distance is 5.650978101422115e+20 in the iteration 25\n",
      "The distance is 5.636163913020025e+20 in the iteration 26\n",
      "The distance is 5.610380667274452e+20 in the iteration 27\n",
      "The distance is 5.566800953188025e+20 in the iteration 28\n",
      "The distance is 5.497449614412011e+20 in the iteration 29\n",
      "The distance is 5.4018504589032594e+20 in the iteration 30\n",
      "The distance is 5.323800439750753e+20 in the iteration 31\n",
      "The distance is 5.485801293787213e+20 in the iteration 32\n",
      "The distance is 6.750548766205487e+20 in the iteration 33\n",
      "The distance is 1.2157659696383845e+21 in the iteration 34\n",
      "The distance is 3.1374479746290654e+21 in the iteration 35\n",
      "The distance is 4.5632968489629705e+21 in the iteration 36\n",
      "The distance is 2.748594037964581e+20 in the iteration 37\n",
      "The distance is 0.0 in the iteration 38\n"
     ]
    },
    {
     "data": {
      "text/plain": [
       "array([[0.01, 0.01, 0.01, 0.01, 0.01, 0.01, 0.01],\n",
       "       [0.02, 0.02, 0.02, 0.02, 0.02, 0.02, 0.02],\n",
       "       [0.03, 0.03, 0.03, 0.03, 0.03, 0.03, 0.03],\n",
       "       [0.04, 0.04, 0.04, 0.04, 0.04, 0.04, 0.04],\n",
       "       [0.05, 0.05, 0.05, 0.05, 0.05, 0.05, 0.05],\n",
       "       [0.06, 0.06, 0.06, 0.06, 0.06, 0.06, 0.06],\n",
       "       [0.07, 0.07, 0.07, 0.07, 0.07, 0.07, 0.07],\n",
       "       [0.08, 0.08, 0.08, 0.08, 0.08, 0.08, 0.08],\n",
       "       [0.09, 0.09, 0.09, 0.09, 0.09, 0.09, 0.09],\n",
       "       [0.1 , 0.1 , 0.1 , 0.1 , 0.1 , 0.1 , 0.1 ],\n",
       "       [0.11, 0.11, 0.11, 0.11, 0.11, 0.11, 0.11],\n",
       "       [0.12, 0.12, 0.12, 0.12, 0.12, 0.12, 0.12],\n",
       "       [0.13, 0.13, 0.13, 0.13, 0.13, 0.13, 0.13],\n",
       "       [0.14, 0.14, 0.14, 0.14, 0.14, 0.14, 0.14],\n",
       "       [0.15, 0.15, 0.15, 0.15, 0.15, 0.15, 0.15],\n",
       "       [0.16, 0.16, 0.16, 0.16, 0.16, 0.16, 0.16],\n",
       "       [0.17, 0.17, 0.17, 0.17, 0.17, 0.17, 0.17],\n",
       "       [0.18, 0.18, 0.18, 0.18, 0.18, 0.18, 0.18],\n",
       "       [0.19, 0.19, 0.19, 0.19, 0.19, 0.19, 0.19],\n",
       "       [0.2 , 0.2 , 0.2 , 0.2 , 0.2 , 0.2 , 0.2 ],\n",
       "       [0.21, 0.21, 0.21, 0.21, 0.21, 0.21, 0.21],\n",
       "       [0.22, 0.22, 0.22, 0.22, 0.22, 0.22, 0.22],\n",
       "       [0.23, 0.23, 0.23, 0.23, 0.23, 0.23, 0.23],\n",
       "       [0.24, 0.24, 0.24, 0.24, 0.24, 0.24, 0.24],\n",
       "       [0.25, 0.25, 0.25, 0.25, 0.25, 0.25, 0.25],\n",
       "       [0.26, 0.26, 0.26, 0.26, 0.26, 0.26, 0.26],\n",
       "       [0.27, 0.27, 0.27, 0.27, 0.27, 0.27, 0.27],\n",
       "       [0.28, 0.28, 0.28, 0.28, 0.28, 0.28, 0.28],\n",
       "       [0.29, 0.29, 0.29, 0.29, 0.29, 0.29, 0.29],\n",
       "       [0.3 , 0.3 , 0.3 , 0.3 , 0.3 , 0.3 , 0.3 ],\n",
       "       [0.31, 0.31, 0.31, 0.31, 0.31, 0.31, 0.31],\n",
       "       [0.32, 0.32, 0.32, 0.32, 0.32, 0.32, 0.32],\n",
       "       [0.33, 0.33, 0.33, 0.33, 0.33, 0.33, 0.33],\n",
       "       [0.34, 0.34, 0.34, 0.34, 0.34, 0.34, 0.34],\n",
       "       [0.35, 0.35, 0.35, 0.35, 0.35, 0.35, 0.35],\n",
       "       [0.36, 0.36, 0.36, 0.36, 0.36, 0.36, 0.36],\n",
       "       [0.37, 0.37, 0.37, 0.37, 0.37, 0.37, 0.37],\n",
       "       [0.38, 0.38, 0.38, 0.38, 0.38, 0.38, 0.38],\n",
       "       [0.39, 0.39, 0.39, 0.39, 0.39, 0.39, 0.39],\n",
       "       [0.4 , 0.4 , 0.4 , 0.4 , 0.4 , 0.4 , 0.4 ],\n",
       "       [0.41, 0.41, 0.41, 0.41, 0.41, 0.41, 0.41],\n",
       "       [0.42, 0.42, 0.42, 0.42, 0.42, 0.42, 0.42],\n",
       "       [0.43, 0.43, 0.43, 0.43, 0.43, 0.43, 0.43],\n",
       "       [0.44, 0.44, 0.44, 0.44, 0.44, 0.44, 0.44],\n",
       "       [0.45, 0.45, 0.45, 0.45, 0.45, 0.45, 0.45],\n",
       "       [0.46, 0.46, 0.46, 0.46, 0.46, 0.46, 0.46],\n",
       "       [0.47, 0.47, 0.47, 0.47, 0.47, 0.47, 0.47],\n",
       "       [0.48, 0.48, 0.48, 0.48, 0.48, 0.48, 0.48],\n",
       "       [0.49, 0.49, 0.49, 0.49, 0.49, 0.49, 0.49],\n",
       "       [0.5 , 0.5 , 0.5 , 0.5 , 0.5 , 0.5 , 0.5 ],\n",
       "       [0.51, 0.51, 0.51, 0.51, 0.51, 0.51, 0.51],\n",
       "       [0.52, 0.52, 0.52, 0.52, 0.52, 0.52, 0.52],\n",
       "       [0.53, 0.53, 0.53, 0.53, 0.53, 0.53, 0.53],\n",
       "       [0.54, 0.54, 0.54, 0.54, 0.54, 0.54, 0.54],\n",
       "       [0.55, 0.55, 0.55, 0.55, 0.55, 0.55, 0.55],\n",
       "       [0.56, 0.56, 0.56, 0.56, 0.56, 0.56, 0.56],\n",
       "       [0.57, 0.57, 0.57, 0.57, 0.57, 0.57, 0.57],\n",
       "       [0.58, 0.58, 0.58, 0.58, 0.58, 0.58, 0.58],\n",
       "       [0.59, 0.59, 0.59, 0.59, 0.59, 0.59, 0.59],\n",
       "       [0.6 , 0.6 , 0.6 , 0.6 , 0.6 , 0.6 , 0.6 ],\n",
       "       [0.61, 0.61, 0.61, 0.61, 0.61, 0.61, 0.61],\n",
       "       [0.62, 0.62, 0.62, 0.62, 0.62, 0.62, 0.62],\n",
       "       [0.63, 0.63, 0.63, 0.63, 0.63, 0.63, 0.63],\n",
       "       [0.64, 0.64, 0.64, 0.64, 0.64, 0.64, 0.64],\n",
       "       [0.65, 0.65, 0.65, 0.65, 0.65, 0.65, 0.65],\n",
       "       [0.66, 0.66, 0.66, 0.66, 0.66, 0.66, 0.66],\n",
       "       [0.67, 0.67, 0.67, 0.67, 0.67, 0.67, 0.67],\n",
       "       [0.68, 0.68, 0.68, 0.68, 0.68, 0.68, 0.68],\n",
       "       [0.69, 0.69, 0.69, 0.69, 0.69, 0.69, 0.69],\n",
       "       [0.7 , 0.7 , 0.7 , 0.7 , 0.7 , 0.7 , 0.7 ],\n",
       "       [0.71, 0.71, 0.71, 0.71, 0.71, 0.71, 0.71],\n",
       "       [0.72, 0.72, 0.72, 0.72, 0.72, 0.72, 0.72],\n",
       "       [0.73, 0.73, 0.73, 0.73, 0.73, 0.73, 0.73],\n",
       "       [0.74, 0.74, 0.74, 0.74, 0.74, 0.74, 0.74],\n",
       "       [0.75, 0.75, 0.75, 0.75, 0.75, 0.75, 0.75],\n",
       "       [0.76, 0.76, 0.76, 0.76, 0.76, 0.76, 0.76],\n",
       "       [0.77, 0.77, 0.77, 0.77, 0.77, 0.77, 0.77],\n",
       "       [0.78, 0.78, 0.78, 0.78, 0.78, 0.78, 0.78],\n",
       "       [0.79, 0.79, 0.79, 0.79, 0.79, 0.79, 0.79],\n",
       "       [0.8 , 0.8 , 0.8 , 0.8 , 0.8 , 0.8 , 0.8 ],\n",
       "       [0.81, 0.81, 0.81, 0.81, 0.81, 0.81, 0.81],\n",
       "       [0.82, 0.82, 0.82, 0.82, 0.82, 0.82, 0.82],\n",
       "       [0.83, 0.83, 0.83, 0.83, 0.83, 0.83, 0.83],\n",
       "       [0.84, 0.84, 0.84, 0.84, 0.84, 0.84, 0.84],\n",
       "       [0.85, 0.85, 0.85, 0.85, 0.85, 0.85, 0.85],\n",
       "       [0.86, 0.86, 0.86, 0.86, 0.86, 0.86, 0.86],\n",
       "       [0.87, 0.87, 0.87, 0.87, 0.87, 0.87, 0.87],\n",
       "       [0.88, 0.88, 0.88, 0.88, 0.88, 0.88, 0.88],\n",
       "       [0.89, 0.89, 0.89, 0.89, 0.89, 0.89, 0.89],\n",
       "       [0.9 , 0.9 , 0.9 , 0.9 , 0.9 , 0.9 , 0.9 ],\n",
       "       [0.91, 0.91, 0.91, 0.91, 0.91, 0.91, 0.91],\n",
       "       [0.92, 0.92, 0.92, 0.92, 0.92, 0.92, 0.92],\n",
       "       [0.93, 0.93, 0.93, 0.93, 0.93, 0.93, 0.93],\n",
       "       [0.94, 0.94, 0.94, 0.94, 0.94, 0.94, 0.94],\n",
       "       [0.95, 0.95, 0.95, 0.95, 0.95, 0.95, 0.95],\n",
       "       [0.96, 0.96, 0.96, 0.96, 0.96, 0.96, 0.96],\n",
       "       [0.97, 0.97, 0.97, 0.97, 0.97, 0.97, 0.97],\n",
       "       [0.98, 0.98, 0.98, 0.98, 0.98, 0.98, 0.98],\n",
       "       [0.99, 0.99, 0.99, 0.99, 0.99, 0.99, 0.99],\n",
       "       [1.  , 1.  , 1.  , 1.  , 1.  , 1.  , 1.  ]])"
      ]
     },
     "execution_count": 14,
     "metadata": {},
     "output_type": "execute_result"
    }
   ],
   "source": [
    "delta = 10\n",
    "s = 0\n",
    "V_now = np.zeros((N,M))\n",
    "\n",
    "while delta > 1e-9 and s < 1000:\n",
    "    s = s + 1\n",
    "    V_e = V_now @ pdf_epsilon.reshape((M,1)) \n",
    "    V_vec21 = np.tile(V_e.reshape((1,N)), (N,1))\n",
    "    V_vec21[~w_diff_pos] = -1e+10\n",
    "    V_cube21 = np.array([V_vec21 for e in range(M)])\n",
    "    V_new21_cube = u_2 + beta * V_cube21\n",
    "    V_new = np.zeros((N,M))\n",
    "    W_new = np.zeros((N,M))\n",
    "    for i in range(N):\n",
    "        V_new[i] = V_new21_cube[:, i, :].max(axis=1)\n",
    "        W_new[i] = W_vec[np.argmax(V_new21_cube[:, i, :], axis=1)]\n",
    "    delta = valuediff2(V_new, V_now)\n",
    "    print('The distance is {} in the iteration {}'.format(delta, s))\n",
    "    V_now = V_new\n",
    "    \n",
    "W_new"
   ]
  },
  {
   "cell_type": "markdown",
   "metadata": {},
   "source": [
    "## Exercise 22"
   ]
  },
  {
   "cell_type": "code",
   "execution_count": 15,
   "metadata": {},
   "outputs": [
    {
     "data": {
      "text/plain": [
       "<matplotlib.contour.QuadContourSet at 0x1a18343c50>"
      ]
     },
     "execution_count": 15,
     "metadata": {},
     "output_type": "execute_result"
    },
    {
     "data": {
      "image/png": "[encoded data removed]",
      "text/plain": [
       "<Figure size 720x576 with 1 Axes>"
      ]
     },
     "metadata": {
      "needs_background": "light"
     },
     "output_type": "display_data"
    }
   ],
   "source": [
    "import matplotlib.pyplot as plt\n",
    "import numpy as np\n",
    "from mpl_toolkits import mplot3d\n",
    "\n",
    "\n",
    "fig = plt.figure(figsize=(10, 8))\n",
    "ax = plt.axes(projection='3d')\n",
    "X, Y = np.meshgrid(W_vec, epsilon)\n",
    "ax.set_xlabel('Wealth today')\n",
    "ax.set_ylabel('epsilon')\n",
    "ax.set_zlabel('Wealth tomorrow')\n",
    "ax.view_init(elev=30,azim=30)\n",
    "ax.contour3D(X.T, Y.T, W_new, 50, cmap='binary')"
   ]
  },
  {
   "cell_type": "code",
   "execution_count": null,
   "metadata": {},
   "outputs": [],
   "source": []
  }
 ],
 "metadata": {
  "kernelspec": {
   "display_name": "Python 3",
   "language": "python",
   "name": "python3"
  },
  "language_info": {
   "codemirror_mode": {
    "name": "ipython",
    "version": 3
   },
   "file_extension": ".py",
   "mimetype": "text/x-python",
   "name": "python",
   "nbconvert_exporter": "python",
   "pygments_lexer": "ipython3",
   "version": "3.7.0"
  }
 },
 "nbformat": 4,
 "nbformat_minor": 2
}
