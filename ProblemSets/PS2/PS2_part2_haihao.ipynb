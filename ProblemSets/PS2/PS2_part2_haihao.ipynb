{
 "cells": [
  {
   "cell_type": "markdown",
   "metadata": {},
   "source": [
    "# Problem Set #2 - Part 2"
   ]
  },
  {
   "cell_type": "markdown",
   "metadata": {},
   "source": [
    "MACS 30000, Dr. Evans"
   ]
  },
  {
   "cell_type": "markdown",
   "metadata": {},
   "source": [
    "Haihao Guo"
   ]
  },
  {
   "cell_type": "markdown",
   "metadata": {},
   "source": [
    "### Exercise 2.1"
   ]
  },
  {
   "cell_type": "code",
   "execution_count": 9,
   "metadata": {},
   "outputs": [
    {
     "name": "stdout",
     "output_type": "stream",
     "text": [
      "test result with N = 100000\n",
      "The approximation using midpoint method is 4373.333331964678 and the difference between this and the true value is 1.3686549209523946e-06\n",
      "The approximation using trapezoid method is 4373.333336070732 and the difference between this and the true value is 2.737398972385563e-06\n",
      "The approximation using Simpsons method is 4373.333333333362 and the difference between this and the true value is 2.9103830456733704e-11\n"
     ]
    }
   ],
   "source": [
    "g = lambda x: 0.1 * x ** 4 - 1.5 * x ** 3 + 0.53 * x ** 2 + 1\n",
    "g(1)\n",
    "def integral_(g, a, b, N, method):\n",
    "    \n",
    "    outcome = 0\n",
    "    \n",
    "    def x_m(i):\n",
    "        return a + (2 * i + 1) * (b - a) / (2 * N)\n",
    "    \n",
    "    def x_t(i):\n",
    "        return a + i * (b - a) / N\n",
    "\n",
    "    def x_s(i):\n",
    "        return a + i * (b - a) / (2 * N)\n",
    "    \n",
    "    if method == 'midpoint':\n",
    "        outcome += ((b - a) / N) * sum([g(x_m(i)) for i in range(N)])\n",
    "    elif method == 'trapezoid':\n",
    "        outcome += ((b - a) / (2 * N)) * (g(a) + 2 * sum([g(x_t(i)) for i in range(1, N)]) + g(b))\n",
    "    elif method == 'Simpsons':\n",
    "        outcome += ((b - a) / (6 * N)) * (g(a) + 4 * sum([g(x_s(i)) for i in range(1, 2 * N) if i%2 != 0])\\\n",
    "                                          + 2 * sum([g(x_s(i)) for i in range(2, 2 * N) if i%2 == 0]) + g(b))\n",
    "    else:\n",
    "        pass\n",
    "        \n",
    "    return outcome\n",
    "\n",
    "t_ = 4373 + 1 / 3\n",
    "\n",
    "\n",
    "# test method with N =100000\n",
    "m = integral_(g, -10, 10, 100000, 'midpoint')\n",
    "t = integral_(g, -10, 10, 100000, 'trapezoid')\n",
    "s = integral_(g, -10, 10, 100000, 'Simpsons')\n",
    "\n",
    "print('test result with N = 100000')\n",
    "print('The approximation using midpoint method is {} and the difference between this and the true value is {}'\\\n",
    "      . format(m, abs(m - t_)))\n",
    "print('The approximation using trapezoid method is {} and the difference between this and the true value is {}'\\\n",
    "      . format(t, abs(t - t_)))\n",
    "print('The approximation using Simpsons method is {} and the difference between this and the true value is {}'\\\n",
    "      . format(s, abs(s - t_)))"
   ]
  },
  {
   "cell_type": "code",
   "execution_count": 10,
   "metadata": {},
   "outputs": [
    {
     "data": {
      "text/plain": [
       "<matplotlib.legend.Legend at 0x118a77e10>"
      ]
     },
     "execution_count": 10,
     "metadata": {},
     "output_type": "execute_result"
    },
    {
     "data": {
      "image/png": "[encoded data removed]",
      "text/plain": [
       "<Figure size 432x288 with 1 Axes>"
      ]
     },
     "metadata": {
      "needs_background": "light"
     },
     "output_type": "display_data"
    }
   ],
   "source": [
    "import numpy as np\n",
    "import pandas as pd\n",
    "import matplotlib.pyplot as plt\n",
    "\n",
    "Nvec = np.arange(20, 201, 1)\n",
    "df = pd.DataFrame()\n",
    "df['n'] = Nvec\n",
    "df['error_midpoint'] = [abs(integral_(g, -10, 10, n, 'midpoint') - t_) for n in Nvec]\n",
    "df['error_trapezoid'] = [abs(integral_(g, -10, 10, n, 'trapezoid') - t_) for n in Nvec]\n",
    "df['error_Simpsons'] = [abs(integral_(g, -10, 10, n, 'Simpsons') - t_) for n in Nvec]\n",
    "\n",
    "plt.xlabel('bin number')\n",
    "plt.ylabel('absolute error')\n",
    "plt.plot(df['n'], df['error_midpoint'], label='midpoint')\n",
    "plt.plot(df['n'], df['error_trapezoid'], label='trapezoid')\n",
    "plt.plot(df['n'], df['error_Simpsons'], label='Simpsons')\n",
    "plt.legend(loc = 'upper right',prop = {'size': 8})"
   ]
  },
  {
   "cell_type": "code",
   "execution_count": 11,
   "metadata": {},
   "outputs": [
    {
     "data": {
      "image/png": "[encoded data removed]",
      "text/plain": [
       "<Figure size 432x288 with 1 Axes>"
      ]
     },
     "metadata": {
      "needs_background": "light"
     },
     "output_type": "display_data"
    }
   ],
   "source": [
    "x_ = np.linspace(-10, 10, 1000)\n",
    "plt.plot(x_, g(x_))\n",
    "plt.show()"
   ]
  },
  {
   "cell_type": "markdown",
   "metadata": {},
   "source": [
    "As this graph of g(x) shows, g(x) changed rapidly on [-10, -5]. This could be the source of the difference. In the graph comparing different integral approximation methods, we could find that Simpsons method behaves much better than the other 2. That is because compared to the midpoint and trapezoid method, Simpsons method used the second derivative and therefore could get a better approximation."
   ]
  },
  {
   "cell_type": "markdown",
   "metadata": {},
   "source": [
    "### Exercise 2.2"
   ]
  },
  {
   "cell_type": "code",
   "execution_count": 12,
   "metadata": {},
   "outputs": [
    {
     "data": {
      "text/html": [
       "<div>\n",
       "<style scoped>\n",
       "    .dataframe tbody tr th:only-of-type {\n",
       "        vertical-align: middle;\n",
       "    }\n",
       "\n",
       "    .dataframe tbody tr th {\n",
       "        vertical-align: top;\n",
       "    }\n",
       "\n",
       "    .dataframe thead th {\n",
       "        text-align: right;\n",
       "    }\n",
       "</style>\n",
       "<table border=\"1\" class=\"dataframe\">\n",
       "  <thead>\n",
       "    <tr style=\"text-align: right;\">\n",
       "      <th></th>\n",
       "      <th>nodes</th>\n",
       "      <th>weights</th>\n",
       "    </tr>\n",
       "  </thead>\n",
       "  <tbody>\n",
       "    <tr>\n",
       "      <th>1</th>\n",
       "      <td>0.5</td>\n",
       "      <td>0.003467</td>\n",
       "    </tr>\n",
       "    <tr>\n",
       "      <th>2</th>\n",
       "      <td>1.4</td>\n",
       "      <td>0.014397</td>\n",
       "    </tr>\n",
       "    <tr>\n",
       "      <th>3</th>\n",
       "      <td>2.3</td>\n",
       "      <td>0.048943</td>\n",
       "    </tr>\n",
       "    <tr>\n",
       "      <th>4</th>\n",
       "      <td>3.2</td>\n",
       "      <td>0.117253</td>\n",
       "    </tr>\n",
       "    <tr>\n",
       "      <th>5</th>\n",
       "      <td>4.1</td>\n",
       "      <td>0.198028</td>\n",
       "    </tr>\n",
       "    <tr>\n",
       "      <th>6</th>\n",
       "      <td>5.0</td>\n",
       "      <td>0.235823</td>\n",
       "    </tr>\n",
       "    <tr>\n",
       "      <th>7</th>\n",
       "      <td>5.9</td>\n",
       "      <td>0.198028</td>\n",
       "    </tr>\n",
       "    <tr>\n",
       "      <th>8</th>\n",
       "      <td>6.8</td>\n",
       "      <td>0.117253</td>\n",
       "    </tr>\n",
       "    <tr>\n",
       "      <th>9</th>\n",
       "      <td>7.7</td>\n",
       "      <td>0.048943</td>\n",
       "    </tr>\n",
       "    <tr>\n",
       "      <th>10</th>\n",
       "      <td>8.6</td>\n",
       "      <td>0.014397</td>\n",
       "    </tr>\n",
       "    <tr>\n",
       "      <th>11</th>\n",
       "      <td>9.5</td>\n",
       "      <td>0.003467</td>\n",
       "    </tr>\n",
       "  </tbody>\n",
       "</table>\n",
       "</div>"
      ],
      "text/plain": [
       "    nodes   weights\n",
       "1     0.5  0.003467\n",
       "2     1.4  0.014397\n",
       "3     2.3  0.048943\n",
       "4     3.2  0.117253\n",
       "5     4.1  0.198028\n",
       "6     5.0  0.235823\n",
       "7     5.9  0.198028\n",
       "8     6.8  0.117253\n",
       "9     7.7  0.048943\n",
       "10    8.6  0.014397\n",
       "11    9.5  0.003467"
      ]
     },
     "execution_count": 12,
     "metadata": {},
     "output_type": "execute_result"
    }
   ],
   "source": [
    "import numpy as np\n",
    "import scipy as sp\n",
    "from scipy.stats import norm\n",
    "import pandas as pd\n",
    "\n",
    "def newton_norm(mu, sigma, N, k):\n",
    "    z = np.linspace(mu - k * sigma, mu + k * sigma, N)\n",
    "    w = np.zeros(N)\n",
    "    \n",
    "    w[0] = sp.stats.norm.cdf((z[0] + z[1])/2, loc=mu, scale=sigma)\n",
    "    \n",
    "    f = lambda x: sp.stats.norm.pdf(x, loc=mu, scale=sigma)\n",
    "    for i in range(1, N - 1):\n",
    "        z_min = (z[i - 1] + z[i]) / 2\n",
    "        z_max = (z[i + 1] + z[i]) / 2\n",
    "        w[i] = sp.integrate.quad(f, z_min, z_max)[0]\n",
    "        \n",
    "    w[N - 1] = 1 - sp.stats.norm.cdf((z[N - 2] + z[N - 1]) / 2, loc=mu, scale=sigma)\n",
    "    \n",
    "    return z, w\n",
    "\n",
    "#N=11\n",
    "z, w = newton_norm(5, 1.5, 11, 3)\n",
    "df = pd.DataFrame()\n",
    "df['nodes'] = z\n",
    "df['weights'] = w\n",
    "df.index += 1\n",
    "df"
   ]
  },
  {
   "cell_type": "markdown",
   "metadata": {},
   "source": [
    "### Exercise 2.3"
   ]
  },
  {
   "cell_type": "code",
   "execution_count": 13,
   "metadata": {},
   "outputs": [
    {
     "data": {
      "text/html": [
       "<div>\n",
       "<style scoped>\n",
       "    .dataframe tbody tr th:only-of-type {\n",
       "        vertical-align: middle;\n",
       "    }\n",
       "\n",
       "    .dataframe tbody tr th {\n",
       "        vertical-align: top;\n",
       "    }\n",
       "\n",
       "    .dataframe thead th {\n",
       "        text-align: right;\n",
       "    }\n",
       "</style>\n",
       "<table border=\"1\" class=\"dataframe\">\n",
       "  <thead>\n",
       "    <tr style=\"text-align: right;\">\n",
       "      <th></th>\n",
       "      <th>nodes</th>\n",
       "      <th>weights</th>\n",
       "    </tr>\n",
       "  </thead>\n",
       "  <tbody>\n",
       "    <tr>\n",
       "      <th>1</th>\n",
       "      <td>1.648721</td>\n",
       "      <td>0.003467</td>\n",
       "    </tr>\n",
       "    <tr>\n",
       "      <th>2</th>\n",
       "      <td>4.055200</td>\n",
       "      <td>0.014397</td>\n",
       "    </tr>\n",
       "    <tr>\n",
       "      <th>3</th>\n",
       "      <td>9.974182</td>\n",
       "      <td>0.048943</td>\n",
       "    </tr>\n",
       "    <tr>\n",
       "      <th>4</th>\n",
       "      <td>24.532530</td>\n",
       "      <td>0.117253</td>\n",
       "    </tr>\n",
       "    <tr>\n",
       "      <th>5</th>\n",
       "      <td>60.340288</td>\n",
       "      <td>0.198028</td>\n",
       "    </tr>\n",
       "    <tr>\n",
       "      <th>6</th>\n",
       "      <td>148.413159</td>\n",
       "      <td>0.235823</td>\n",
       "    </tr>\n",
       "    <tr>\n",
       "      <th>7</th>\n",
       "      <td>365.037468</td>\n",
       "      <td>0.198028</td>\n",
       "    </tr>\n",
       "    <tr>\n",
       "      <th>8</th>\n",
       "      <td>897.847292</td>\n",
       "      <td>0.117253</td>\n",
       "    </tr>\n",
       "    <tr>\n",
       "      <th>9</th>\n",
       "      <td>2208.347992</td>\n",
       "      <td>0.048943</td>\n",
       "    </tr>\n",
       "    <tr>\n",
       "      <th>10</th>\n",
       "      <td>5431.659591</td>\n",
       "      <td>0.014397</td>\n",
       "    </tr>\n",
       "    <tr>\n",
       "      <th>11</th>\n",
       "      <td>13359.726830</td>\n",
       "      <td>0.003467</td>\n",
       "    </tr>\n",
       "  </tbody>\n",
       "</table>\n",
       "</div>"
      ],
      "text/plain": [
       "           nodes   weights\n",
       "1       1.648721  0.003467\n",
       "2       4.055200  0.014397\n",
       "3       9.974182  0.048943\n",
       "4      24.532530  0.117253\n",
       "5      60.340288  0.198028\n",
       "6     148.413159  0.235823\n",
       "7     365.037468  0.198028\n",
       "8     897.847292  0.117253\n",
       "9    2208.347992  0.048943\n",
       "10   5431.659591  0.014397\n",
       "11  13359.726830  0.003467"
      ]
     },
     "execution_count": 13,
     "metadata": {},
     "output_type": "execute_result"
    }
   ],
   "source": [
    "def newton_lognorm(mu, sigma, N, k):\n",
    "    z = np.linspace(mu - k * sigma, mu + k * sigma, N)\n",
    "    w = np.zeros(N)\n",
    "    a = np.e ** z\n",
    "    \n",
    "    w[0] = sp.stats.norm.cdf((z[0] + z[1])/2, loc=mu, scale=sigma)\n",
    "    \n",
    "    f = lambda x: sp.stats.norm.pdf(x, loc=mu, scale=sigma)\n",
    "    for i in range(1, N - 1):\n",
    "        z_min = (z[i - 1] + z[i]) / 2\n",
    "        z_max = (z[i + 1] + z[i]) / 2\n",
    "        w[i] = sp.integrate.quad(f, z_min, z_max)[0]\n",
    "        \n",
    "    w[N - 1] = 1 - sp.stats.norm.cdf((z[N - 2] + z[N - 1]) / 2, loc=mu, scale=sigma)\n",
    "    \n",
    "    return a, w\n",
    "\n",
    "#N=11\n",
    "a, w = newton_lognorm(5, 1.5, 11, 3)\n",
    "df = pd.DataFrame()\n",
    "df['nodes'] = a\n",
    "df['weights'] = w\n",
    "df.index += 1\n",
    "df"
   ]
  },
  {
   "cell_type": "markdown",
   "metadata": {},
   "source": [
    "### Exercise 2.4"
   ]
  },
  {
   "cell_type": "code",
   "execution_count": 14,
   "metadata": {},
   "outputs": [
    {
     "name": "stdout",
     "output_type": "stream",
     "text": [
      "My approximation is: 50352.456192765865, the expected value is 50011.08700852173, the difference is 341.36918424413307\n"
     ]
    }
   ],
   "source": [
    "a, w = newton_lognorm(10.5, 0.8, 11, 3)\n",
    "approximation = sum(np.multiply(a, w))\n",
    "expected = np.e ** (10.5 + 0.5 * (0.8 ** 2))\n",
    "\n",
    "\n",
    "d = abs(approximation - expected)\n",
    "print(\"My approximation is: {}, the expected value is {}, the difference is {}\".format(approximation, expected, d))"
   ]
  },
  {
   "cell_type": "markdown",
   "metadata": {},
   "source": [
    "### Exercise 3.1"
   ]
  },
  {
   "cell_type": "code",
   "execution_count": 15,
   "metadata": {},
   "outputs": [
    {
     "name": "stdout",
     "output_type": "stream",
     "text": [
      "The approximation using gauss method is 4373.333333174393 and the difference between this and the true value is 1.5893965610302985e-07\n",
      "The approximation using midpoint method is 2967.8189300411505 and the difference between this and the gauss value is 1405.514403133243\n",
      "The approximation using trapezoid method is 7283.12757201646 and the difference between this and the gauss value is 2909.794238842067\n",
      "The approximation using Simpsons method is 4406.255144032921 and the difference between this and the gauss value is 32.92181085852735\n"
     ]
    }
   ],
   "source": [
    "import scipy as sp\n",
    "\n",
    "N = 3\n",
    "a = -10\n",
    "b = 10\n",
    "\n",
    "\n",
    "def h(x):\n",
    "    return [((b ** (i + 1) - a ** (i + 1)) / (i + 1) - \\\n",
    "             sum(x[:N][k] * (x[N:][k] ** i) for k in range(N))) for i in range (2 * N)]\n",
    "\n",
    "def gauss_quad(f, N=3, a=-10, b=10):\n",
    "    w_init = [1 / N for i in range(N)]\n",
    "    x_init = [a + i * (b - a) / (N - 1) for i in range(N)] \n",
    "    wx_init = w_init + x_init\n",
    "    \n",
    "    wn = [k for k in sp.optimize.root(h, wx_init)['x']] \n",
    "    w = wn[:N]\n",
    "    n = wn[N:]\n",
    "    return sum([(w[i] * f(n[i])) for i in range(N)])\n",
    "\n",
    "g = lambda x: 0.1 * x ** 4 - 1.5 * x ** 3 + 0.53 * x ** 2 + 1\n",
    "gauss = gauss_quad(g, N=3, a=-10, b=10)\n",
    "t_ = 4373 + 1 / 3\n",
    "m = integral_(g, -10, 10, 3, 'midpoint')\n",
    "t = integral_(g, -10, 10, 3, 'trapezoid')\n",
    "s = integral_(g, -10, 10, 3, 'Simpsons')\n",
    "\n",
    "print('The approximation using gauss method is {} and the difference between this and the true value is {}'\\\n",
    "      . format(gauss, abs(t_ - gauss)))\n",
    "print('The approximation using midpoint method is {} and the difference between this and the gauss value is {}'\\\n",
    "      . format(m, abs(m - gauss)))\n",
    "print('The approximation using trapezoid method is {} and the difference between this and the gauss value is {}'\\\n",
    "      . format(t, abs(t - gauss)))\n",
    "print('The approximation using Simpsons method is {} and the difference between this and the gauss value is {}'\\\n",
    "      . format(s, abs(s - gauss)))"
   ]
  },
  {
   "cell_type": "markdown",
   "metadata": {},
   "source": [
    "### Exercise 3.2"
   ]
  },
  {
   "cell_type": "code",
   "execution_count": 19,
   "metadata": {},
   "outputs": [
    {
     "name": "stdout",
     "output_type": "stream",
     "text": [
      "The approximation using Gaussian quadrature command method is 4373.333333333334 and the difference between this and the true value is 9.094947017729282e-13\n"
     ]
    }
   ],
   "source": [
    "import scipy\n",
    "scipy_appro = scipy.integrate.quad(g, -10, 10)\n",
    "print('The approximation using Gaussian quadrature command method is {} and the difference between this and the true value is {}'\\\n",
    "      . format(scipy_appro[0], abs(scipy_appro[0] - t_)))"
   ]
  },
  {
   "cell_type": "markdown",
   "metadata": {},
   "source": [
    "### Exercise 4.1"
   ]
  },
  {
   "cell_type": "code",
   "execution_count": 20,
   "metadata": {},
   "outputs": [
    {
     "name": "stdout",
     "output_type": "stream",
     "text": [
      "The smallest number of random draws is 615\n"
     ]
    }
   ],
   "source": [
    "import scipy.stats as sts\n",
    "\n",
    "np.random.seed(seed=25)\n",
    "\n",
    "def g_(x, y):\n",
    "    g = 0\n",
    "    if x ** 2 + y ** 2 <= 1:\n",
    "        g += 1\n",
    "    else:\n",
    "        pass    \n",
    "    return g\n",
    "\n",
    "\n",
    "def MC_appro(g, domain, N):   \n",
    "    x_draws = sts.uniform.rvs(loc=domain[0], scale=domain[1] - domain[0], size=N)\n",
    "    y_draws = sts.uniform.rvs(loc=domain[2], scale=domain[3] - domain[2], size=N)\n",
    "    approx_int = (4 / N) * sum([g(x_draws[i], y_draws[i]) for i in range(N)])\n",
    "    return approx_int\n",
    "\n",
    "approx_int = 0\n",
    "N = 1\n",
    "while round(approx_int, 4) != 3.1415:\n",
    "    N += 1\n",
    "    approx_int = MC_appro(g_, [-1, 1, -1, 1], N)\n",
    "\n",
    "print('The smallest number of random draws is {}'.format(N))"
   ]
  },
  {
   "cell_type": "markdown",
   "metadata": {},
   "source": [
    "### Exercise 4.2"
   ]
  },
  {
   "cell_type": "code",
   "execution_count": 21,
   "metadata": {},
   "outputs": [],
   "source": [
    "import numpy as np\n",
    "\n",
    "def isPrime(n):\n",
    "    '''\n",
    "    --------------------------------------------------------------------\n",
    "    This function returns a boolean indicating whether an integer n is a\n",
    "    prime number\n",
    "    --------------------------------------------------------------------\n",
    "    INPUTS:\n",
    "    n = scalar, any scalar value\n",
    "\n",
    "    OTHER FUNCTIONS AND FILES CALLED BY THIS FUNCTION: None\n",
    "\n",
    "    OBJECTS CREATED WITHIN FUNCTION:\n",
    "    i = integer in [2, sqrt(n)]\n",
    "\n",
    "    FILES CREATED BY THIS FUNCTION: None\n",
    "\n",
    "    RETURN: boolean\n",
    "    --------------------------------------------------------------------\n",
    "    '''\n",
    "    for i in range(2, int(np.sqrt(n) + 1)):\n",
    "        if n % i == 0:\n",
    "            return False\n",
    "\n",
    "    return True"
   ]
  },
  {
   "cell_type": "code",
   "execution_count": 22,
   "metadata": {},
   "outputs": [],
   "source": [
    "def primes_ascend(N, min_val=2):\n",
    "    '''\n",
    "    --------------------------------------------------------------------\n",
    "    This function generates an ordered sequence of N consecutive prime\n",
    "    numbers, the smallest of which is greater than or equal to 1 using\n",
    "    the Sieve of Eratosthenes algorithm.\n",
    "    (https://en.wikipedia.org/wiki/Sieve_of_Eratosthenes)\n",
    "    --------------------------------------------------------------------\n",
    "    INPUTS:\n",
    "    N       = integer, number of elements in sequence of consecutive\n",
    "              prime numbers\n",
    "    min_val = scalar >= 2, the smallest prime number in the consecutive\n",
    "              sequence must be greater-than-or-equal-to this value\n",
    "\n",
    "    OTHER FUNCTIONS AND FILES CALLED BY THIS FUNCTION:\n",
    "        isPrime()\n",
    "\n",
    "    OBJECTS CREATED WITHIN FUNCTION:\n",
    "    primes_vec     = (N,) vector, consecutive prime numbers greater than\n",
    "                     min_val\n",
    "    MinIsEven      = boolean, =True if min_val is even, =False otherwise\n",
    "    MinIsGrtrThn2  = boolean, =True if min_val is\n",
    "                     greater-than-or-equal-to 2, =False otherwise\n",
    "    curr_prime_ind = integer >= 0, running count of prime numbers found\n",
    "\n",
    "    FILES CREATED BY THIS FUNCTION: None\n",
    "\n",
    "    RETURN: primes_vec\n",
    "    --------------------------------------------------------------------\n",
    "    '''\n",
    "    primes_vec = np.zeros(N, dtype=int)\n",
    "    MinIsEven = 1 - min_val % 2\n",
    "    MinIsGrtrThn2 = min_val > 2\n",
    "    curr_prime_ind = 0\n",
    "    if not MinIsGrtrThn2:\n",
    "        i = 2\n",
    "        curr_prime_ind += 1\n",
    "        primes_vec[0] = i\n",
    "    i = min(3, min_val + (MinIsEven * 1))\n",
    "    while curr_prime_ind < N:\n",
    "        if isPrime(i):\n",
    "            curr_prime_ind += 1\n",
    "            primes_vec[curr_prime_ind - 1] = i\n",
    "        i += 2\n",
    "\n",
    "    return primes_vec"
   ]
  },
  {
   "cell_type": "code",
   "execution_count": 23,
   "metadata": {},
   "outputs": [
    {
     "name": "stdout",
     "output_type": "stream",
     "text": [
      "[0.45115242633119124, 0.49051652140519764]\n",
      "[0.2688529398292303, 0.40737199457362294]\n",
      "[0.6927253065300647, 0.38589783426255053]\n",
      "[0.716401936555485, 0.07792346123756033]\n"
     ]
    }
   ],
   "source": [
    "import numpy as np\n",
    "\n",
    "def mach(x): \n",
    "        return x - x // 1\n",
    "    \n",
    "def s_generate(n, d, sequence): \n",
    "    p = primes_ascend(d)\n",
    "    \n",
    "    if sequence == 'weyl':\n",
    "        return [mach(n * np.sqrt(p[i])) for i in range(d)]\n",
    "    elif sequence == 'haber':\n",
    "        return [mach(n * (n + 1) * 0.5 * np.sqrt(p[i])) for i in range(d)]\n",
    "    elif sequence == 'niederreiter':\n",
    "        return [mach(n * (2 ** (i / (n + 1)))) for i in range(1, d + 1)]\n",
    "    elif sequence == 'baker':\n",
    "        return [mach(n * (np.e ** ([1 / (i + 1) for i in range(d)][i]))) for i in range(d)]\n",
    "    \n",
    "print(s_generate(1073, 2, 'weyl'))\n",
    "print(s_generate(1073, 2, 'haber'))\n",
    "print(s_generate(1073, 2, 'niederreiter'))\n",
    "print(s_generate(1073, 2, 'baker'))"
   ]
  },
  {
   "cell_type": "markdown",
   "metadata": {},
   "source": [
    "### Exercise 4.3"
   ]
  },
  {
   "cell_type": "code",
   "execution_count": 24,
   "metadata": {},
   "outputs": [],
   "source": [
    "import scipy.stats as sts\n",
    "\n",
    "np.random.seed(seed=25)\n",
    "\n",
    "def g_(x, y):\n",
    "    g = 0\n",
    "    if x ** 2 + y ** 2 <= 1:\n",
    "        g += 1\n",
    "    else:\n",
    "        pass    \n",
    "    return g\n",
    "\n",
    "\n",
    "def MC_appro_quasi(g, domain, N, seq):   \n",
    "    \n",
    "    def quasi_draw(seq, domain):\n",
    "        x1, x2 = domain[0], domain[1]\n",
    "        y1, y2 = domain[2], domain[3]\n",
    "        x_draw = [(x2 - x1) * s_generate(i, 2, seq)[0] + x1 for i in range(N)]\n",
    "        y_draw = [(y2 - y1) * s_generate(i, 2, seq)[1] + y1 for i in range(N)] \n",
    "        return x_draw, y_draw\n",
    "    \n",
    "    x_draws, y_draws = quasi_draw(seq, domain)\n",
    "    approx_int = (4 / N) * sum([g(x_draws[i], y_draws[i]) for i in range(N)])\n",
    "    return approx_int"
   ]
  },
  {
   "cell_type": "code",
   "execution_count": 25,
   "metadata": {},
   "outputs": [
    {
     "name": "stdout",
     "output_type": "stream",
     "text": [
      "The smallest number of weyl sequence draws is 1230\n"
     ]
    }
   ],
   "source": [
    "approx_int = 0\n",
    "N = 1\n",
    "while round(approx_int, 4) != 3.1415:\n",
    "    N += 1\n",
    "    approx_int = MC_appro_quasi(g_, [-1, 1, -1, 1], N, 'weyl')\n",
    "\n",
    "print('The smallest number of weyl sequence draws is {}'.format(N))"
   ]
  },
  {
   "cell_type": "code",
   "execution_count": 26,
   "metadata": {},
   "outputs": [
    {
     "name": "stdout",
     "output_type": "stream",
     "text": [
      "The smallest number of haber sequence draws is 2064\n"
     ]
    }
   ],
   "source": [
    "approx_int = 0\n",
    "N = 1\n",
    "while round(approx_int, 4) != 3.1415:\n",
    "    N += 1\n",
    "    approx_int = MC_appro_quasi(g_, [-1, 1, -1, 1], N, 'haber')\n",
    "\n",
    "print('The smallest number of haber sequence draws is {}'.format(N))"
   ]
  },
  {
   "cell_type": "code",
   "execution_count": 27,
   "metadata": {},
   "outputs": [
    {
     "name": "stdout",
     "output_type": "stream",
     "text": [
      "The smallest number of niederreiter sequence draws is bigger than 3000, which means niederreiter sequence may not converge.\n"
     ]
    }
   ],
   "source": [
    "approx_int = 0\n",
    "N = 1\n",
    "while round(approx_int, 4) != 3.1415:\n",
    "    N += 1\n",
    "    approx_int = MC_appro_quasi(g_, [-1, 1, -1, 1], N, 'niederreiter')\n",
    "    if N > 3000:\n",
    "        print('The smallest number of niederreiter sequence draws is bigger than 3000, which means niederreiter sequence may not converge.')\n",
    "        break\n",
    "\n",
    "if N <= 3000:\n",
    "    print('The smallest number of niederreiter sequence draws is {}'.format(N))\n",
    "else:\n",
    "    pass"
   ]
  },
  {
   "cell_type": "code",
   "execution_count": 28,
   "metadata": {},
   "outputs": [
    {
     "name": "stdout",
     "output_type": "stream",
     "text": [
      "The smallest number of baker sequence draws is 205\n"
     ]
    }
   ],
   "source": [
    "approx_int = 0\n",
    "N = 1\n",
    "while round(approx_int, 4) != 3.1415:\n",
    "    N += 1\n",
    "    approx_int = MC_appro_quasi(g_, [-1, 1, -1, 1], N, 'baker')\n",
    "\n",
    "print('The smallest number of baker sequence draws is {}'.format(N))"
   ]
  }
 ],
 "metadata": {
  "kernelspec": {
   "display_name": "Python 3",
   "language": "python",
   "name": "python3"
  },
  "language_info": {
   "codemirror_mode": {
    "name": "ipython",
    "version": 3
   },
   "file_extension": ".py",
   "mimetype": "text/x-python",
   "name": "python",
   "nbconvert_exporter": "python",
   "pygments_lexer": "ipython3",
   "version": "3.7.0"
  }
 },
 "nbformat": 4,
 "nbformat_minor": 2
}
